{
 "cells": [
  {
   "cell_type": "code",
   "execution_count": 20,
   "id": "e3c9468e",
   "metadata": {
    "scrolled": true
   },
   "outputs": [],
   "source": [
    "import os\n",
    "import numpy as np\n",
    "import pandas as pd\n",
    "import matplotlib.pyplot as plt\n",
    "import cv2\n",
    "from sklearn.utils import shuffle\n",
    "from sklearn.metrics import classification_report, confusion_matrix"
   ]
  },
  {
   "cell_type": "code",
   "execution_count": 8,
   "id": "626d5006",
   "metadata": {
    "scrolled": true
   },
   "outputs": [
    {
     "name": "stdout",
     "output_type": "stream",
     "text": [
      "---------------------------------------------------\n",
      "0 images processed\n",
      "750 images processed\n",
      "1500 images processed\n",
      "2250 images processed\n",
      "3000 images processed\n",
      "3750 images processed\n",
      "4500 images processed\n",
      "3875\n",
      "min width is 127\n",
      "min heights is 384\n",
      "0 images processed\n",
      "100 images processed\n",
      "200 images processed\n",
      "300 images processed\n",
      "400 images processed\n",
      "500 images processed\n",
      "600 images processed\n",
      "390\n",
      "min width is 344\n",
      "min heights is 728\n"
     ]
    }
   ],
   "source": [
    "# CHANGE depending on your local machine\n",
    "\n",
    "os.chdir(r\"D:\\UNI\\6th year\\T2\\COMP9417\\Assignments\\Group Assignment\\chest_xray\")\n",
    "\n",
    "base_dir = 'chest_xray/'\n",
    "\n",
    "train_dir = base_dir + 'train/'\n",
    "test_dir = base_dir + 'test/'\n",
    "val_dir = base_dir + 'val/'\n",
    "\n",
    "train_neg = train_dir + 'NORMAL'\n",
    "train_pos = train_dir + 'PNEUMONIA'\n",
    "test_neg = test_dir + 'NORMAL'\n",
    "test_pos = test_dir + 'PNEUMONIA'\n",
    "val_neg = val_dir + 'NORMAL'\n",
    "val_pos = val_dir + 'PNEUMONIA'\n",
    "\n",
    "train_pos = [train_pos+'/'+i  for i in os.listdir(train_pos) ]\n",
    "train_neg = [train_neg + '/' + i for i in os.listdir(train_neg) ]\n",
    "\n",
    "\n",
    "test_pos = [test_pos + '/' + i for i in os.listdir(test_pos) ]\n",
    "test_neg = [test_neg + '/' + i for i in os.listdir(test_neg)]\n",
    "\n",
    "val_pos = [val_pos + '/' + i for i in os.listdir(val_pos)]\n",
    "val_neg = [val_neg + '/' + i for i in os.listdir(val_neg)]\n",
    "print('---------------------------------------------------')\n",
    "\n",
    "train_full = train_pos + train_neg\n",
    "\n",
    "# resizing images\n",
    "\n",
    "# size of smallest image()\n",
    "image_size = 127\n",
    "\n",
    "# there are a few packages for image reading, here im using cv2\n",
    "\n",
    "widths_train = []\n",
    "heights_train = []\n",
    "\n",
    "train_data = []\n",
    "train_labels = []\n",
    "\n",
    "count = 0\n",
    "for train_img in train_full:\n",
    "    img = cv2.imread(train_img, cv2.IMREAD_GRAYSCALE)\n",
    "    \n",
    "    widths_train.append(img.shape[0])\n",
    "    heights_train.append(img.shape[1])\n",
    "    \n",
    "    img = cv2.resize(img, (image_size, image_size)).flatten()\n",
    "    np_img = np.asarray(img)\n",
    "    \n",
    "    train_data.append(np_img)\n",
    "    \n",
    "    if \"bacteria\" in train_img or \"virus\" in train_img:\n",
    "        train_labels.append(1)\n",
    "    else:\n",
    "        train_labels.append(0)\n",
    "\n",
    "    if count % 750 == 0:\n",
    "        print(f\"{count} images processed\")\n",
    "    count += 1\n",
    "\n",
    "\n",
    "\n",
    "print(sum(train_labels))\n",
    "\n",
    "\n",
    "print(f\"min width is {min(widths_train)}\")\n",
    "print(f\"min heights is {min(heights_train)}\")\n",
    "\n",
    "test_data = []\n",
    "test_labels = []\n",
    "\n",
    "test_full = test_neg + test_pos\n",
    "\n",
    "\n",
    "widths = []\n",
    "heights = []\n",
    "\n",
    "count = 0\n",
    "for test_img in test_full:\n",
    "    img = cv2.imread(test_img, cv2.IMREAD_GRAYSCALE)\n",
    "    widths.append(img.shape[0])\n",
    "    heights.append(img.shape[1])\n",
    "    img = cv2.resize(img, (image_size, image_size)).flatten()\n",
    "    np_img = np.asarray(img)\n",
    "    test_data.append(np_img)\n",
    "    if \"bacteria\" in test_img or \"virus\" in test_img:\n",
    "        test_labels.append(1)\n",
    "    else:\n",
    "        test_labels.append(0)\n",
    "\n",
    "    if count % 100 == 0:\n",
    "        print(f\"{count} images processed\")\n",
    "    count += 1\n",
    "    \n",
    "print(sum(test_labels))\n",
    "\n",
    "\n",
    "print(f\"min width is {min(widths)}\")\n",
    "print(f\"min heights is {min(heights)}\")"
   ]
  },
  {
   "cell_type": "code",
   "execution_count": 29,
   "id": "4edcf874",
   "metadata": {
    "scrolled": true
   },
   "outputs": [],
   "source": [
    "from sklearn.linear_model import LogisticRegression\n",
    "train_scores = []\n",
    "test_scores = []\n",
    "\n",
    "# convert to np arrays\n",
    "train_data = np.array(train_data)\n",
    "train_labels = np.array(train_labels)\n",
    "\n",
    "\n",
    "test_data = np.array(test_data)\n",
    "test_labels = np.array(test_labels)\n"
   ]
  },
  {
   "cell_type": "code",
   "execution_count": 30,
   "id": "1c12d932",
   "metadata": {
    "scrolled": false
   },
   "outputs": [
    {
     "data": {
      "image/png": "[encoded data removed]",
      "text/plain": [
       "<Figure size 576x576 with 1 Axes>"
      ]
     },
     "metadata": {
      "needs_background": "light"
     },
     "output_type": "display_data"
    },
    {
     "name": "stdout",
     "output_type": "stream",
     "text": [
      "              precision    recall  f1-score   support\n",
      "\n",
      "           0       0.95      0.94      0.95      1341\n",
      "           1       0.98      0.98      0.98      3875\n",
      "\n",
      "    accuracy                           0.97      5216\n",
      "   macro avg       0.97      0.96      0.96      5216\n",
      "weighted avg       0.97      0.97      0.97      5216\n",
      "\n"
     ]
    },
    {
     "data": {
      "image/png": "[encoded data removed]",
      "text/plain": [
       "<Figure size 576x576 with 1 Axes>"
      ]
     },
     "metadata": {
      "needs_background": "light"
     },
     "output_type": "display_data"
    },
    {
     "name": "stdout",
     "output_type": "stream",
     "text": [
      "              precision    recall  f1-score   support\n",
      "\n",
      "           0       0.94      0.35      0.51       234\n",
      "           1       0.72      0.99      0.83       390\n",
      "\n",
      "    accuracy                           0.75       624\n",
      "   macro avg       0.83      0.67      0.67       624\n",
      "weighted avg       0.80      0.75      0.71       624\n",
      "\n"
     ]
    },
    {
     "data": {
      "image/png": "[encoded data removed]",
      "text/plain": [
       "<Figure size 576x576 with 1 Axes>"
      ]
     },
     "metadata": {
      "needs_background": "light"
     },
     "output_type": "display_data"
    },
    {
     "name": "stdout",
     "output_type": "stream",
     "text": [
      "              precision    recall  f1-score   support\n",
      "\n",
      "           0       0.95      0.94      0.95      1341\n",
      "           1       0.98      0.98      0.98      3875\n",
      "\n",
      "    accuracy                           0.97      5216\n",
      "   macro avg       0.97      0.96      0.96      5216\n",
      "weighted avg       0.97      0.97      0.97      5216\n",
      "\n"
     ]
    },
    {
     "data": {
      "image/png": "[encoded data removed]",
      "text/plain": [
       "<Figure size 576x576 with 1 Axes>"
      ]
     },
     "metadata": {
      "needs_background": "light"
     },
     "output_type": "display_data"
    },
    {
     "name": "stdout",
     "output_type": "stream",
     "text": [
      "              precision    recall  f1-score   support\n",
      "\n",
      "           0       0.94      0.35      0.51       234\n",
      "           1       0.72      0.99      0.83       390\n",
      "\n",
      "    accuracy                           0.75       624\n",
      "   macro avg       0.83      0.67      0.67       624\n",
      "weighted avg       0.80      0.75      0.71       624\n",
      "\n"
     ]
    },
    {
     "data": {
      "image/png": "[encoded data removed]",
      "text/plain": [
       "<Figure size 576x576 with 1 Axes>"
      ]
     },
     "metadata": {
      "needs_background": "light"
     },
     "output_type": "display_data"
    },
    {
     "name": "stdout",
     "output_type": "stream",
     "text": [
      "              precision    recall  f1-score   support\n",
      "\n",
      "           0       0.96      0.94      0.95      1341\n",
      "           1       0.98      0.98      0.98      3875\n",
      "\n",
      "    accuracy                           0.97      5216\n",
      "   macro avg       0.97      0.96      0.96      5216\n",
      "weighted avg       0.97      0.97      0.97      5216\n",
      "\n"
     ]
    },
    {
     "data": {
      "image/png": "[encoded data removed]",
      "text/plain": [
       "<Figure size 576x576 with 1 Axes>"
      ]
     },
     "metadata": {
      "needs_background": "light"
     },
     "output_type": "display_data"
    },
    {
     "name": "stdout",
     "output_type": "stream",
     "text": [
      "              precision    recall  f1-score   support\n",
      "\n",
      "           0       0.94      0.35      0.51       234\n",
      "           1       0.72      0.99      0.83       390\n",
      "\n",
      "    accuracy                           0.75       624\n",
      "   macro avg       0.83      0.67      0.67       624\n",
      "weighted avg       0.80      0.75      0.71       624\n",
      "\n"
     ]
    }
   ],
   "source": [
    "#Saga\n",
    "logisticRegr = LogisticRegression(penalty=\"l1\", tol=0.01, solver=\"saga\")\n",
    "logisticRegr.fit(train_data , train_labels)\n",
    "y_pred_train = logisticRegr.predict(train_data)\n",
    "y_pred_test = logisticRegr.predict(test_data)\n",
    "\n",
    "cm = confusion_matrix(train_labels, y_pred_train)\n",
    "\n",
    "fig, ax = plt.subplots(figsize=(8, 8))\n",
    "ax.imshow(cm)\n",
    "ax.grid(False)\n",
    "ax.xaxis.set(ticks=(0, 1), ticklabels=('Predicted 0s', 'Predicted 1s'))\n",
    "ax.yaxis.set(ticks=(0, 1), ticklabels=('Actual 0s', 'Actual 1s'))\n",
    "ax.set_ylim(1.5, -0.5)\n",
    "for i in range(2):\n",
    "    for j in range(2):\n",
    "        ax.text(j, i, cm[i, j], ha='center', va='center', color='red')\n",
    "plt.show()\n",
    "print(classification_report(train_labels, y_pred_train))\n",
    "\n",
    "cm = confusion_matrix(test_labels, y_pred_test)\n",
    "\n",
    "fig, ax = plt.subplots(figsize=(8, 8))\n",
    "ax.imshow(cm)\n",
    "ax.grid(False)\n",
    "ax.xaxis.set(ticks=(0, 1), ticklabels=('Predicted 0s', 'Predicted 1s'))\n",
    "ax.yaxis.set(ticks=(0, 1), ticklabels=('Actual 0s', 'Actual 1s'))\n",
    "ax.set_ylim(1.5, -0.5)\n",
    "for i in range(2):\n",
    "    for j in range(2):\n",
    "        ax.text(j, i, cm[i, j], ha='center', va='center', color='red')\n",
    "plt.show()\n",
    "\n",
    "print(classification_report(test_labels, y_pred_test))\n",
    "\n",
    "logisticRegr = LogisticRegression(penalty=\"l2\", tol=0.01, solver=\"saga\")\n",
    "logisticRegr.fit(train_data , train_labels)\n",
    "y_pred_train = logisticRegr.predict(train_data)\n",
    "y_pred_test = logisticRegr.predict(test_data)\n",
    "\n",
    "cm = confusion_matrix(train_labels, y_pred_train)\n",
    "\n",
    "fig, ax = plt.subplots(figsize=(8, 8))\n",
    "ax.imshow(cm)\n",
    "ax.grid(False)\n",
    "ax.xaxis.set(ticks=(0, 1), ticklabels=('Predicted 0s', 'Predicted 1s'))\n",
    "ax.yaxis.set(ticks=(0, 1), ticklabels=('Actual 0s', 'Actual 1s'))\n",
    "ax.set_ylim(1.5, -0.5)\n",
    "for i in range(2):\n",
    "    for j in range(2):\n",
    "        ax.text(j, i, cm[i, j], ha='center', va='center', color='red')\n",
    "plt.show()\n",
    "print(classification_report(train_labels, y_pred_train))\n",
    "\n",
    "cm = confusion_matrix(test_labels, y_pred_test)\n",
    "\n",
    "fig, ax = plt.subplots(figsize=(8, 8))\n",
    "ax.imshow(cm)\n",
    "ax.grid(False)\n",
    "ax.xaxis.set(ticks=(0, 1), ticklabels=('Predicted 0s', 'Predicted 1s'))\n",
    "ax.yaxis.set(ticks=(0, 1), ticklabels=('Actual 0s', 'Actual 1s'))\n",
    "ax.set_ylim(1.5, -0.5)\n",
    "for i in range(2):\n",
    "    for j in range(2):\n",
    "        ax.text(j, i, cm[i, j], ha='center', va='center', color='red')\n",
    "plt.show()\n",
    "\n",
    "print(classification_report(test_labels, y_pred_test))\n",
    "\n",
    "logisticRegr = LogisticRegression(penalty=\"elasticnet\", l1_ratio=0.5, tol=0.01, solver=\"saga\")\n",
    "logisticRegr.fit(train_data , train_labels)\n",
    "y_pred_train = logisticRegr.predict(train_data)\n",
    "y_pred_test = logisticRegr.predict(test_data)\n",
    "\n",
    "cm = confusion_matrix(train_labels, y_pred_train)\n",
    "\n",
    "fig, ax = plt.subplots(figsize=(8, 8))\n",
    "ax.imshow(cm)\n",
    "ax.grid(False)\n",
    "ax.xaxis.set(ticks=(0, 1), ticklabels=('Predicted NO', 'Predicted YES'))\n",
    "ax.yaxis.set(ticks=(0, 1), ticklabels=('Actual NO', 'Actual YES'))\n",
    "ax.set_ylim(1.5, -0.5)\n",
    "for i in range(2):\n",
    "    for j in range(2):\n",
    "        ax.text(j, i, cm[i, j], ha='center', va='center', color='red')\n",
    "plt.show()\n",
    "print(classification_report(train_labels, y_pred_train))\n",
    "\n",
    "cm = confusion_matrix(test_labels, y_pred_test)\n",
    "\n",
    "fig, ax = plt.subplots(figsize=(8, 8))\n",
    "ax.imshow(cm)\n",
    "ax.grid(False)\n",
    "ax.xaxis.set(ticks=(0, 1), ticklabels=('Predicted NO', 'Predicted YES'))\n",
    "ax.yaxis.set(ticks=(0, 1), ticklabels=('Actual NO', 'Actual YES'))\n",
    "ax.set_ylim(1.5, -0.5)\n",
    "for i in range(2):\n",
    "    for j in range(2):\n",
    "        ax.text(j, i, cm[i, j], ha='center', va='center', color='red')\n",
    "plt.show()\n",
    "\n",
    "print(classification_report(test_labels, y_pred_test))"
   ]
  },
  {
   "cell_type": "code",
   "execution_count": 31,
   "id": "4e62eb00",
   "metadata": {
    "scrolled": false
   },
   "outputs": [
    {
     "data": {
      "image/png": "[encoded data removed]",
      "text/plain": [
       "<Figure size 576x576 with 1 Axes>"
      ]
     },
     "metadata": {
      "needs_background": "light"
     },
     "output_type": "display_data"
    },
    {
     "name": "stdout",
     "output_type": "stream",
     "text": [
      "              precision    recall  f1-score   support\n",
      "\n",
      "           0       0.90      0.97      0.94      1341\n",
      "           1       0.99      0.96      0.98      3875\n",
      "\n",
      "    accuracy                           0.97      5216\n",
      "   macro avg       0.95      0.97      0.96      5216\n",
      "weighted avg       0.97      0.97      0.97      5216\n",
      "\n"
     ]
    },
    {
     "data": {
      "image/png": "[encoded data removed]",
      "text/plain": [
       "<Figure size 576x576 with 1 Axes>"
      ]
     },
     "metadata": {
      "needs_background": "light"
     },
     "output_type": "display_data"
    },
    {
     "name": "stdout",
     "output_type": "stream",
     "text": [
      "              precision    recall  f1-score   support\n",
      "\n",
      "           0       0.92      0.44      0.59       234\n",
      "           1       0.74      0.98      0.84       390\n",
      "\n",
      "    accuracy                           0.77       624\n",
      "   macro avg       0.83      0.71      0.72       624\n",
      "weighted avg       0.81      0.77      0.75       624\n",
      "\n"
     ]
    },
    {
     "data": {
      "image/png": "[encoded data removed]",
      "text/plain": [
       "<Figure size 576x576 with 1 Axes>"
      ]
     },
     "metadata": {
      "needs_background": "light"
     },
     "output_type": "display_data"
    },
    {
     "name": "stdout",
     "output_type": "stream",
     "text": [
      "              precision    recall  f1-score   support\n",
      "\n",
      "           0       0.90      0.97      0.94      1341\n",
      "           1       0.99      0.96      0.98      3875\n",
      "\n",
      "    accuracy                           0.97      5216\n",
      "   macro avg       0.95      0.97      0.96      5216\n",
      "weighted avg       0.97      0.97      0.97      5216\n",
      "\n"
     ]
    },
    {
     "data": {
      "image/png": "[encoded data removed]",
      "text/plain": [
       "<Figure size 576x576 with 1 Axes>"
      ]
     },
     "metadata": {
      "needs_background": "light"
     },
     "output_type": "display_data"
    },
    {
     "name": "stdout",
     "output_type": "stream",
     "text": [
      "              precision    recall  f1-score   support\n",
      "\n",
      "           0       0.92      0.44      0.59       234\n",
      "           1       0.74      0.98      0.84       390\n",
      "\n",
      "    accuracy                           0.77       624\n",
      "   macro avg       0.83      0.71      0.72       624\n",
      "weighted avg       0.81      0.77      0.75       624\n",
      "\n"
     ]
    },
    {
     "data": {
      "image/png": "[encoded data removed]",
      "text/plain": [
       "<Figure size 576x576 with 1 Axes>"
      ]
     },
     "metadata": {
      "needs_background": "light"
     },
     "output_type": "display_data"
    },
    {
     "name": "stdout",
     "output_type": "stream",
     "text": [
      "              precision    recall  f1-score   support\n",
      "\n",
      "           0       0.90      0.97      0.94      1341\n",
      "           1       0.99      0.96      0.98      3875\n",
      "\n",
      "    accuracy                           0.97      5216\n",
      "   macro avg       0.95      0.97      0.96      5216\n",
      "weighted avg       0.97      0.97      0.97      5216\n",
      "\n"
     ]
    },
    {
     "data": {
      "image/png": "[encoded data removed]",
      "text/plain": [
       "<Figure size 576x576 with 1 Axes>"
      ]
     },
     "metadata": {
      "needs_background": "light"
     },
     "output_type": "display_data"
    },
    {
     "name": "stdout",
     "output_type": "stream",
     "text": [
      "              precision    recall  f1-score   support\n",
      "\n",
      "           0       0.92      0.44      0.59       234\n",
      "           1       0.74      0.98      0.84       390\n",
      "\n",
      "    accuracy                           0.77       624\n",
      "   macro avg       0.83      0.71      0.72       624\n",
      "weighted avg       0.81      0.77      0.75       624\n",
      "\n"
     ]
    }
   ],
   "source": [
    "#Saga\n",
    "logisticRegr = LogisticRegression(penalty=\"l1\", tol=0.01, solver=\"saga\", class_weight=\"balanced\")\n",
    "logisticRegr.fit(train_data , train_labels)\n",
    "y_pred_train = logisticRegr.predict(train_data)\n",
    "y_pred_test = logisticRegr.predict(test_data)\n",
    "\n",
    "cm = confusion_matrix(train_labels, y_pred_train)\n",
    "\n",
    "fig, ax = plt.subplots(figsize=(8, 8))\n",
    "ax.imshow(cm)\n",
    "ax.grid(False)\n",
    "ax.xaxis.set(ticks=(0, 1), ticklabels=('Predicted NO', 'Predicted YES'))\n",
    "ax.yaxis.set(ticks=(0, 1), ticklabels=('Actual NO', 'Actual YES'))\n",
    "ax.set_ylim(1.5, -0.5)\n",
    "for i in range(2):\n",
    "    for j in range(2):\n",
    "        ax.text(j, i, cm[i, j], ha='center', va='center', color='red')\n",
    "plt.show()\n",
    "print(classification_report(train_labels, y_pred_train))\n",
    "\n",
    "cm = confusion_matrix(test_labels, y_pred_test)\n",
    "\n",
    "fig, ax = plt.subplots(figsize=(8, 8))\n",
    "ax.imshow(cm)\n",
    "ax.grid(False)\n",
    "ax.xaxis.set(ticks=(0, 1), ticklabels=('Predicted NO', 'Predicted YES'))\n",
    "ax.yaxis.set(ticks=(0, 1), ticklabels=('Actual NO', 'Actual YES'))\n",
    "ax.set_ylim(1.5, -0.5)\n",
    "for i in range(2):\n",
    "    for j in range(2):\n",
    "        ax.text(j, i, cm[i, j], ha='center', va='center', color='red')\n",
    "plt.show()\n",
    "\n",
    "print(classification_report(test_labels, y_pred_test))\n",
    "\n",
    "logisticRegr = LogisticRegression(penalty=\"l2\", tol=0.01, solver=\"saga\", class_weight=\"balanced\")\n",
    "logisticRegr.fit(train_data , train_labels)\n",
    "y_pred_train = logisticRegr.predict(train_data)\n",
    "y_pred_test = logisticRegr.predict(test_data)\n",
    "\n",
    "cm = confusion_matrix(train_labels, y_pred_train)\n",
    "\n",
    "fig, ax = plt.subplots(figsize=(8, 8))\n",
    "ax.imshow(cm)\n",
    "ax.grid(False)\n",
    "ax.xaxis.set(ticks=(0, 1), ticklabels=('Predicted NO', 'Predicted YES'))\n",
    "ax.yaxis.set(ticks=(0, 1), ticklabels=('Actual NO', 'Actual YES'))\n",
    "ax.set_ylim(1.5, -0.5)\n",
    "for i in range(2):\n",
    "    for j in range(2):\n",
    "        ax.text(j, i, cm[i, j], ha='center', va='center', color='red')\n",
    "plt.show()\n",
    "print(classification_report(train_labels, y_pred_train))\n",
    "\n",
    "cm = confusion_matrix(test_labels, y_pred_test)\n",
    "\n",
    "fig, ax = plt.subplots(figsize=(8, 8))\n",
    "ax.imshow(cm)\n",
    "ax.grid(False)\n",
    "ax.xaxis.set(ticks=(0, 1), ticklabels=('Predicted NO', 'Predicted YES'))\n",
    "ax.yaxis.set(ticks=(0, 1), ticklabels=('Actual NO', 'Actual YES'))\n",
    "ax.set_ylim(1.5, -0.5)\n",
    "for i in range(2):\n",
    "    for j in range(2):\n",
    "        ax.text(j, i, cm[i, j], ha='center', va='center', color='red')\n",
    "plt.show()\n",
    "\n",
    "print(classification_report(test_labels, y_pred_test))\n",
    "\n",
    "logisticRegr = LogisticRegression(penalty=\"elasticnet\", l1_ratio=0.5, tol=0.01, solver=\"saga\", class_weight=\"balanced\")\n",
    "logisticRegr.fit(train_data , train_labels)\n",
    "y_pred_train = logisticRegr.predict(train_data)\n",
    "y_pred_test = logisticRegr.predict(test_data)\n",
    "\n",
    "cm = confusion_matrix(train_labels, y_pred_train)\n",
    "\n",
    "fig, ax = plt.subplots(figsize=(8, 8))\n",
    "ax.imshow(cm)\n",
    "ax.grid(False)\n",
    "ax.xaxis.set(ticks=(0, 1), ticklabels=('Predicted NO', 'Predicted YES'))\n",
    "ax.yaxis.set(ticks=(0, 1), ticklabels=('Actual NO', 'Actual YES'))\n",
    "ax.set_ylim(1.5, -0.5)\n",
    "for i in range(2):\n",
    "    for j in range(2):\n",
    "        ax.text(j, i, cm[i, j], ha='center', va='center', color='red')\n",
    "plt.show()\n",
    "print(classification_report(train_labels, y_pred_train))\n",
    "\n",
    "cm = confusion_matrix(test_labels, y_pred_test)\n",
    "\n",
    "fig, ax = plt.subplots(figsize=(8, 8))\n",
    "ax.imshow(cm)\n",
    "ax.grid(False)\n",
    "ax.xaxis.set(ticks=(0, 1), ticklabels=('Predicted NO', 'Predicted YES'))\n",
    "ax.yaxis.set(ticks=(0, 1), ticklabels=('Actual NO', 'Actual YES'))\n",
    "ax.set_ylim(1.5, -0.5)\n",
    "for i in range(2):\n",
    "    for j in range(2):\n",
    "        ax.text(j, i, cm[i, j], ha='center', va='center', color='red')\n",
    "plt.show()\n",
    "\n",
    "print(classification_report(test_labels, y_pred_test))\n"
   ]
  },
  {
   "cell_type": "markdown",
   "id": "8787e46e",
   "metadata": {},
   "source": [
    "It seems that changing the penalty type doesnt change the results much"
   ]
  },
  {
   "cell_type": "code",
   "execution_count": 32,
   "id": "5e9f9688",
   "metadata": {
    "scrolled": false
   },
   "outputs": [
    {
     "data": {
      "image/png": "[encoded data removed]",
      "text/plain": [
       "<Figure size 576x576 with 1 Axes>"
      ]
     },
     "metadata": {
      "needs_background": "light"
     },
     "output_type": "display_data"
    },
    {
     "name": "stdout",
     "output_type": "stream",
     "text": [
      "              precision    recall  f1-score   support\n",
      "\n",
      "           0       1.00      1.00      1.00      1341\n",
      "           1       1.00      1.00      1.00      3875\n",
      "\n",
      "    accuracy                           1.00      5216\n",
      "   macro avg       1.00      1.00      1.00      5216\n",
      "weighted avg       1.00      1.00      1.00      5216\n",
      "\n"
     ]
    },
    {
     "data": {
      "image/png": "[encoded data removed]",
      "text/plain": [
       "<Figure size 576x576 with 1 Axes>"
      ]
     },
     "metadata": {
      "needs_background": "light"
     },
     "output_type": "display_data"
    },
    {
     "name": "stdout",
     "output_type": "stream",
     "text": [
      "              precision    recall  f1-score   support\n",
      "\n",
      "           0       0.96      0.32      0.48       234\n",
      "           1       0.71      0.99      0.83       390\n",
      "\n",
      "    accuracy                           0.74       624\n",
      "   macro avg       0.84      0.66      0.65       624\n",
      "weighted avg       0.80      0.74      0.70       624\n",
      "\n"
     ]
    },
    {
     "data": {
      "image/png": "[encoded data removed]",
      "text/plain": [
       "<Figure size 576x576 with 1 Axes>"
      ]
     },
     "metadata": {
      "needs_background": "light"
     },
     "output_type": "display_data"
    },
    {
     "name": "stdout",
     "output_type": "stream",
     "text": [
      "              precision    recall  f1-score   support\n",
      "\n",
      "           0       1.00      1.00      1.00      1341\n",
      "           1       1.00      1.00      1.00      3875\n",
      "\n",
      "    accuracy                           1.00      5216\n",
      "   macro avg       1.00      1.00      1.00      5216\n",
      "weighted avg       1.00      1.00      1.00      5216\n",
      "\n"
     ]
    },
    {
     "data": {
      "image/png": "[encoded data removed]",
      "text/plain": [
       "<Figure size 576x576 with 1 Axes>"
      ]
     },
     "metadata": {
      "needs_background": "light"
     },
     "output_type": "display_data"
    },
    {
     "name": "stdout",
     "output_type": "stream",
     "text": [
      "              precision    recall  f1-score   support\n",
      "\n",
      "           0       0.95      0.32      0.48       234\n",
      "           1       0.71      0.99      0.83       390\n",
      "\n",
      "    accuracy                           0.74       624\n",
      "   macro avg       0.83      0.66      0.66       624\n",
      "weighted avg       0.80      0.74      0.70       624\n",
      "\n"
     ]
    }
   ],
   "source": [
    "#Newton-cg\n",
    "logisticRegr = LogisticRegression(penalty=\"l2\", tol=0.01, solver=\"newton-cg\")\n",
    "logisticRegr.fit(train_data , train_labels)\n",
    "y_pred_train = logisticRegr.predict(train_data)\n",
    "y_pred_test = logisticRegr.predict(test_data)\n",
    "\n",
    "cm = confusion_matrix(train_labels, y_pred_train)\n",
    "\n",
    "fig, ax = plt.subplots(figsize=(8, 8))\n",
    "ax.imshow(cm)\n",
    "ax.grid(False)\n",
    "ax.xaxis.set(ticks=(0, 1), ticklabels=('Predicted NO', 'Predicted YES'))\n",
    "ax.yaxis.set(ticks=(0, 1), ticklabels=('Actual NO', 'Actual YES'))\n",
    "ax.set_ylim(1.5, -0.5)\n",
    "for i in range(2):\n",
    "    for j in range(2):\n",
    "        ax.text(j, i, cm[i, j], ha='center', va='center', color='red')\n",
    "plt.show()\n",
    "print(classification_report(train_labels, y_pred_train))\n",
    "\n",
    "cm = confusion_matrix(test_labels, y_pred_test)\n",
    "\n",
    "fig, ax = plt.subplots(figsize=(8, 8))\n",
    "ax.imshow(cm)\n",
    "ax.grid(False)\n",
    "ax.xaxis.set(ticks=(0, 1), ticklabels=('Predicted NO', 'Predicted YES'))\n",
    "ax.yaxis.set(ticks=(0, 1), ticklabels=('Actual NO', 'Actual YES'))\n",
    "ax.set_ylim(1.5, -0.5)\n",
    "for i in range(2):\n",
    "    for j in range(2):\n",
    "        ax.text(j, i, cm[i, j], ha='center', va='center', color='red')\n",
    "plt.show()\n",
    "\n",
    "print(classification_report(test_labels, y_pred_test))\n",
    "\n",
    "\n",
    "logisticRegr = LogisticRegression(penalty=\"none\", tol=0.01, solver=\"newton-cg\")\n",
    "logisticRegr.fit(train_data , train_labels)\n",
    "y_pred_train = logisticRegr.predict(train_data)\n",
    "y_pred_test = logisticRegr.predict(test_data)\n",
    "\n",
    "cm = confusion_matrix(train_labels, y_pred_train)\n",
    "\n",
    "fig, ax = plt.subplots(figsize=(8, 8))\n",
    "ax.imshow(cm)\n",
    "ax.grid(False)\n",
    "ax.xaxis.set(ticks=(0, 1), ticklabels=('Predicted NO', 'Predicted YES'))\n",
    "ax.yaxis.set(ticks=(0, 1), ticklabels=('Actual NO', 'Actual YES'))\n",
    "ax.set_ylim(1.5, -0.5)\n",
    "for i in range(2):\n",
    "    for j in range(2):\n",
    "        ax.text(j, i, cm[i, j], ha='center', va='center', color='red')\n",
    "plt.show()\n",
    "print(classification_report(train_labels, y_pred_train))\n",
    "\n",
    "cm = confusion_matrix(test_labels, y_pred_test)\n",
    "\n",
    "fig, ax = plt.subplots(figsize=(8, 8))\n",
    "ax.imshow(cm)\n",
    "ax.grid(False)\n",
    "ax.xaxis.set(ticks=(0, 1), ticklabels=('Predicted NO', 'Predicted YES'))\n",
    "ax.yaxis.set(ticks=(0, 1), ticklabels=('Actual NO', 'Actual YES'))\n",
    "ax.set_ylim(1.5, -0.5)\n",
    "for i in range(2):\n",
    "    for j in range(2):\n",
    "        ax.text(j, i, cm[i, j], ha='center', va='center', color='red')\n",
    "plt.show()\n",
    "\n",
    "print(classification_report(test_labels, y_pred_test))\n"
   ]
  },
  {
   "cell_type": "code",
   "execution_count": 33,
   "id": "849db607",
   "metadata": {
    "scrolled": false
   },
   "outputs": [
    {
     "data": {
      "image/png": "[encoded data removed]",
      "text/plain": [
       "<Figure size 576x576 with 1 Axes>"
      ]
     },
     "metadata": {
      "needs_background": "light"
     },
     "output_type": "display_data"
    },
    {
     "name": "stdout",
     "output_type": "stream",
     "text": [
      "              precision    recall  f1-score   support\n",
      "\n",
      "           0       1.00      1.00      1.00      1341\n",
      "           1       1.00      1.00      1.00      3875\n",
      "\n",
      "    accuracy                           1.00      5216\n",
      "   macro avg       1.00      1.00      1.00      5216\n",
      "weighted avg       1.00      1.00      1.00      5216\n",
      "\n"
     ]
    },
    {
     "data": {
      "image/png": "[encoded data removed]",
      "text/plain": [
       "<Figure size 576x576 with 1 Axes>"
      ]
     },
     "metadata": {
      "needs_background": "light"
     },
     "output_type": "display_data"
    },
    {
     "name": "stdout",
     "output_type": "stream",
     "text": [
      "              precision    recall  f1-score   support\n",
      "\n",
      "           0       0.95      0.33      0.49       234\n",
      "           1       0.71      0.99      0.83       390\n",
      "\n",
      "    accuracy                           0.74       624\n",
      "   macro avg       0.83      0.66      0.66       624\n",
      "weighted avg       0.80      0.74      0.70       624\n",
      "\n"
     ]
    },
    {
     "data": {
      "image/png": "[encoded data removed]",
      "text/plain": [
       "<Figure size 576x576 with 1 Axes>"
      ]
     },
     "metadata": {
      "needs_background": "light"
     },
     "output_type": "display_data"
    },
    {
     "name": "stdout",
     "output_type": "stream",
     "text": [
      "              precision    recall  f1-score   support\n",
      "\n",
      "           0       1.00      1.00      1.00      1341\n",
      "           1       1.00      1.00      1.00      3875\n",
      "\n",
      "    accuracy                           1.00      5216\n",
      "   macro avg       1.00      1.00      1.00      5216\n",
      "weighted avg       1.00      1.00      1.00      5216\n",
      "\n"
     ]
    },
    {
     "data": {
      "image/png": "[encoded data removed]",
      "text/plain": [
       "<Figure size 576x576 with 1 Axes>"
      ]
     },
     "metadata": {
      "needs_background": "light"
     },
     "output_type": "display_data"
    },
    {
     "name": "stdout",
     "output_type": "stream",
     "text": [
      "              precision    recall  f1-score   support\n",
      "\n",
      "           0       0.95      0.32      0.48       234\n",
      "           1       0.71      0.99      0.83       390\n",
      "\n",
      "    accuracy                           0.74       624\n",
      "   macro avg       0.83      0.66      0.65       624\n",
      "weighted avg       0.80      0.74      0.70       624\n",
      "\n"
     ]
    }
   ],
   "source": [
    "#Newton-cg\n",
    "logisticRegr = LogisticRegression(penalty=\"l2\", tol=0.01, solver=\"newton-cg\", class_weight=\"balanced\")\n",
    "logisticRegr.fit(train_data , train_labels)\n",
    "y_pred_train = logisticRegr.predict(train_data)\n",
    "y_pred_test = logisticRegr.predict(test_data)\n",
    "\n",
    "cm = confusion_matrix(train_labels, y_pred_train)\n",
    "\n",
    "fig, ax = plt.subplots(figsize=(8, 8))\n",
    "ax.imshow(cm)\n",
    "ax.grid(False)\n",
    "ax.xaxis.set(ticks=(0, 1), ticklabels=('Predicted NO', 'Predicted YES'))\n",
    "ax.yaxis.set(ticks=(0, 1), ticklabels=('Actual NO', 'Actual YES'))\n",
    "ax.set_ylim(1.5, -0.5)\n",
    "for i in range(2):\n",
    "    for j in range(2):\n",
    "        ax.text(j, i, cm[i, j], ha='center', va='center', color='red')\n",
    "plt.show()\n",
    "print(classification_report(train_labels, y_pred_train))\n",
    "\n",
    "cm = confusion_matrix(test_labels, y_pred_test)\n",
    "\n",
    "fig, ax = plt.subplots(figsize=(8, 8))\n",
    "ax.imshow(cm)\n",
    "ax.grid(False)\n",
    "ax.xaxis.set(ticks=(0, 1), ticklabels=('Predicted NO', 'Predicted YES'))\n",
    "ax.yaxis.set(ticks=(0, 1), ticklabels=('Actual NO', 'Actual YES'))\n",
    "ax.set_ylim(1.5, -0.5)\n",
    "for i in range(2):\n",
    "    for j in range(2):\n",
    "        ax.text(j, i, cm[i, j], ha='center', va='center', color='red')\n",
    "plt.show()\n",
    "\n",
    "print(classification_report(test_labels, y_pred_test))\n",
    "\n",
    "\n",
    "logisticRegr = LogisticRegression(penalty=\"none\", tol=0.01, solver=\"newton-cg\", class_weight=\"balanced\")\n",
    "logisticRegr.fit(train_data , train_labels)\n",
    "y_pred_train = logisticRegr.predict(train_data)\n",
    "y_pred_test = logisticRegr.predict(test_data)\n",
    "\n",
    "cm = confusion_matrix(train_labels, y_pred_train)\n",
    "\n",
    "fig, ax = plt.subplots(figsize=(8, 8))\n",
    "ax.imshow(cm)\n",
    "ax.grid(False)\n",
    "ax.xaxis.set(ticks=(0, 1), ticklabels=('Predicted NO', 'Predicted YES'))\n",
    "ax.yaxis.set(ticks=(0, 1), ticklabels=('Actual NO', 'Actual YES'))\n",
    "ax.set_ylim(1.5, -0.5)\n",
    "for i in range(2):\n",
    "    for j in range(2):\n",
    "        ax.text(j, i, cm[i, j], ha='center', va='center', color='red')\n",
    "plt.show()\n",
    "print(classification_report(train_labels, y_pred_train))\n",
    "\n",
    "cm = confusion_matrix(test_labels, y_pred_test)\n",
    "\n",
    "fig, ax = plt.subplots(figsize=(8, 8))\n",
    "ax.imshow(cm)\n",
    "ax.grid(False)\n",
    "ax.xaxis.set(ticks=(0, 1), ticklabels=('Predicted NO', 'Predicted YES'))\n",
    "ax.yaxis.set(ticks=(0, 1), ticklabels=('Actual NO', 'Actual YES'))\n",
    "ax.set_ylim(1.5, -0.5)\n",
    "for i in range(2):\n",
    "    for j in range(2):\n",
    "        ax.text(j, i, cm[i, j], ha='center', va='center', color='red')\n",
    "plt.show()\n",
    "\n",
    "print(classification_report(test_labels, y_pred_test))\n"
   ]
  },
  {
   "cell_type": "code",
   "execution_count": 34,
   "id": "b9d315f6",
   "metadata": {
    "scrolled": false
   },
   "outputs": [
    {
     "data": {
      "image/png": "[encoded data removed]",
      "text/plain": [
       "<Figure size 576x576 with 1 Axes>"
      ]
     },
     "metadata": {
      "needs_background": "light"
     },
     "output_type": "display_data"
    },
    {
     "name": "stdout",
     "output_type": "stream",
     "text": [
      "              precision    recall  f1-score   support\n",
      "\n",
      "           0       0.97      0.95      0.96      1341\n",
      "           1       0.98      0.99      0.99      3875\n",
      "\n",
      "    accuracy                           0.98      5216\n",
      "   macro avg       0.97      0.97      0.97      5216\n",
      "weighted avg       0.98      0.98      0.98      5216\n",
      "\n"
     ]
    },
    {
     "data": {
      "image/png": "[encoded data removed]",
      "text/plain": [
       "<Figure size 576x576 with 1 Axes>"
      ]
     },
     "metadata": {
      "needs_background": "light"
     },
     "output_type": "display_data"
    },
    {
     "name": "stdout",
     "output_type": "stream",
     "text": [
      "              precision    recall  f1-score   support\n",
      "\n",
      "           0       0.95      0.34      0.50       234\n",
      "           1       0.71      0.99      0.83       390\n",
      "\n",
      "    accuracy                           0.75       624\n",
      "   macro avg       0.83      0.67      0.67       624\n",
      "weighted avg       0.80      0.75      0.71       624\n",
      "\n"
     ]
    },
    {
     "data": {
      "image/png": "[encoded data removed]",
      "text/plain": [
       "<Figure size 576x576 with 1 Axes>"
      ]
     },
     "metadata": {
      "needs_background": "light"
     },
     "output_type": "display_data"
    },
    {
     "name": "stdout",
     "output_type": "stream",
     "text": [
      "              precision    recall  f1-score   support\n",
      "\n",
      "           0       0.97      0.95      0.96      1341\n",
      "           1       0.98      0.99      0.99      3875\n",
      "\n",
      "    accuracy                           0.98      5216\n",
      "   macro avg       0.97      0.97      0.97      5216\n",
      "weighted avg       0.98      0.98      0.98      5216\n",
      "\n"
     ]
    },
    {
     "data": {
      "image/png": "[encoded data removed]",
      "text/plain": [
       "<Figure size 576x576 with 1 Axes>"
      ]
     },
     "metadata": {
      "needs_background": "light"
     },
     "output_type": "display_data"
    },
    {
     "name": "stdout",
     "output_type": "stream",
     "text": [
      "              precision    recall  f1-score   support\n",
      "\n",
      "           0       0.95      0.33      0.49       234\n",
      "           1       0.71      0.99      0.83       390\n",
      "\n",
      "    accuracy                           0.74       624\n",
      "   macro avg       0.83      0.66      0.66       624\n",
      "weighted avg       0.80      0.74      0.70       624\n",
      "\n"
     ]
    }
   ],
   "source": [
    "#Sag\n",
    "logisticRegr = LogisticRegression(penalty=\"none\", tol=0.01, solver=\"sag\")\n",
    "logisticRegr.fit(train_data , train_labels)\n",
    "y_pred_train = logisticRegr.predict(train_data)\n",
    "y_pred_test = logisticRegr.predict(test_data)\n",
    "\n",
    "cm = confusion_matrix(train_labels, y_pred_train)\n",
    "\n",
    "fig, ax = plt.subplots(figsize=(8, 8))\n",
    "ax.imshow(cm)\n",
    "ax.grid(False)\n",
    "ax.xaxis.set(ticks=(0, 1), ticklabels=('Predicted NO', 'Predicted YES'))\n",
    "ax.yaxis.set(ticks=(0, 1), ticklabels=('Actual NO', 'Actual YES'))\n",
    "ax.set_ylim(1.5, -0.5)\n",
    "for i in range(2):\n",
    "    for j in range(2):\n",
    "        ax.text(j, i, cm[i, j], ha='center', va='center', color='red')\n",
    "plt.show()\n",
    "print(classification_report(train_labels, y_pred_train))\n",
    "\n",
    "cm = confusion_matrix(test_labels, y_pred_test)\n",
    "\n",
    "fig, ax = plt.subplots(figsize=(8, 8))\n",
    "ax.imshow(cm)\n",
    "ax.grid(False)\n",
    "ax.xaxis.set(ticks=(0, 1), ticklabels=('Predicted NO', 'Predicted YES'))\n",
    "ax.yaxis.set(ticks=(0, 1), ticklabels=('Actual NO', 'Actual YES'))\n",
    "ax.set_ylim(1.5, -0.5)\n",
    "for i in range(2):\n",
    "    for j in range(2):\n",
    "        ax.text(j, i, cm[i, j], ha='center', va='center', color='red')\n",
    "plt.show()\n",
    "\n",
    "print(classification_report(test_labels, y_pred_test))\n",
    "\n",
    "\n",
    "logisticRegr = LogisticRegression(penalty=\"l2\", tol=0.01, solver=\"sag\")\n",
    "logisticRegr.fit(train_data , train_labels)\n",
    "y_pred_train = logisticRegr.predict(train_data)\n",
    "y_pred_test = logisticRegr.predict(test_data)\n",
    "\n",
    "cm = confusion_matrix(train_labels, y_pred_train)\n",
    "\n",
    "fig, ax = plt.subplots(figsize=(8, 8))\n",
    "ax.imshow(cm)\n",
    "ax.grid(False)\n",
    "ax.xaxis.set(ticks=(0, 1), ticklabels=('Predicted NO', 'Predicted YES'))\n",
    "ax.yaxis.set(ticks=(0, 1), ticklabels=('Actual NO', 'Actual YES'))\n",
    "ax.set_ylim(1.5, -0.5)\n",
    "for i in range(2):\n",
    "    for j in range(2):\n",
    "        ax.text(j, i, cm[i, j], ha='center', va='center', color='red')\n",
    "plt.show()\n",
    "print(classification_report(train_labels, y_pred_train))\n",
    "\n",
    "cm = confusion_matrix(test_labels, y_pred_test)\n",
    "\n",
    "fig, ax = plt.subplots(figsize=(8, 8))\n",
    "ax.imshow(cm)\n",
    "ax.grid(False)\n",
    "ax.xaxis.set(ticks=(0, 1), ticklabels=('Predicted NO', 'Predicted YES'))\n",
    "ax.yaxis.set(ticks=(0, 1), ticklabels=('Actual NO', 'Actual YES'))\n",
    "ax.set_ylim(1.5, -0.5)\n",
    "for i in range(2):\n",
    "    for j in range(2):\n",
    "        ax.text(j, i, cm[i, j], ha='center', va='center', color='red')\n",
    "plt.show()\n",
    "\n",
    "print(classification_report(test_labels, y_pred_test))\n"
   ]
  },
  {
   "cell_type": "code",
   "execution_count": 35,
   "id": "61fb6bfe",
   "metadata": {
    "scrolled": false
   },
   "outputs": [
    {
     "data": {
      "image/png": "[encoded data removed]",
      "text/plain": [
       "<Figure size 576x576 with 1 Axes>"
      ]
     },
     "metadata": {
      "needs_background": "light"
     },
     "output_type": "display_data"
    },
    {
     "name": "stdout",
     "output_type": "stream",
     "text": [
      "              precision    recall  f1-score   support\n",
      "\n",
      "           0       0.92      0.98      0.95      1341\n",
      "           1       0.99      0.97      0.98      3875\n",
      "\n",
      "    accuracy                           0.97      5216\n",
      "   macro avg       0.96      0.97      0.96      5216\n",
      "weighted avg       0.97      0.97      0.97      5216\n",
      "\n"
     ]
    },
    {
     "data": {
      "image/png": "[encoded data removed]",
      "text/plain": [
       "<Figure size 576x576 with 1 Axes>"
      ]
     },
     "metadata": {
      "needs_background": "light"
     },
     "output_type": "display_data"
    },
    {
     "name": "stdout",
     "output_type": "stream",
     "text": [
      "              precision    recall  f1-score   support\n",
      "\n",
      "           0       0.94      0.44      0.59       234\n",
      "           1       0.74      0.98      0.85       390\n",
      "\n",
      "    accuracy                           0.78       624\n",
      "   macro avg       0.84      0.71      0.72       624\n",
      "weighted avg       0.82      0.78      0.75       624\n",
      "\n"
     ]
    },
    {
     "data": {
      "image/png": "[encoded data removed]",
      "text/plain": [
       "<Figure size 576x576 with 1 Axes>"
      ]
     },
     "metadata": {
      "needs_background": "light"
     },
     "output_type": "display_data"
    },
    {
     "name": "stdout",
     "output_type": "stream",
     "text": [
      "              precision    recall  f1-score   support\n",
      "\n",
      "           0       0.92      0.98      0.95      1341\n",
      "           1       0.99      0.97      0.98      3875\n",
      "\n",
      "    accuracy                           0.97      5216\n",
      "   macro avg       0.96      0.98      0.97      5216\n",
      "weighted avg       0.97      0.97      0.97      5216\n",
      "\n"
     ]
    },
    {
     "data": {
      "image/png": "[encoded data removed]",
      "text/plain": [
       "<Figure size 576x576 with 1 Axes>"
      ]
     },
     "metadata": {
      "needs_background": "light"
     },
     "output_type": "display_data"
    },
    {
     "name": "stdout",
     "output_type": "stream",
     "text": [
      "              precision    recall  f1-score   support\n",
      "\n",
      "           0       0.94      0.43      0.59       234\n",
      "           1       0.74      0.98      0.85       390\n",
      "\n",
      "    accuracy                           0.78       624\n",
      "   macro avg       0.84      0.71      0.72       624\n",
      "weighted avg       0.81      0.78      0.75       624\n",
      "\n"
     ]
    }
   ],
   "source": [
    "#Sag\n",
    "logisticRegr = LogisticRegression(penalty=\"none\", tol=0.01, solver=\"sag\", class_weight=\"balanced\")\n",
    "logisticRegr.fit(train_data , train_labels)\n",
    "y_pred_train = logisticRegr.predict(train_data)\n",
    "y_pred_test = logisticRegr.predict(test_data)\n",
    "\n",
    "cm = confusion_matrix(train_labels, y_pred_train)\n",
    "\n",
    "fig, ax = plt.subplots(figsize=(8, 8))\n",
    "ax.imshow(cm)\n",
    "ax.grid(False)\n",
    "ax.xaxis.set(ticks=(0, 1), ticklabels=('Predicted NO', 'Predicted YES'))\n",
    "ax.yaxis.set(ticks=(0, 1), ticklabels=('Actual NO', 'Actual YES'))\n",
    "ax.set_ylim(1.5, -0.5)\n",
    "for i in range(2):\n",
    "    for j in range(2):\n",
    "        ax.text(j, i, cm[i, j], ha='center', va='center', color='red')\n",
    "plt.show()\n",
    "print(classification_report(train_labels, y_pred_train))\n",
    "\n",
    "cm = confusion_matrix(test_labels, y_pred_test)\n",
    "\n",
    "fig, ax = plt.subplots(figsize=(8, 8))\n",
    "ax.imshow(cm)\n",
    "ax.grid(False)\n",
    "ax.xaxis.set(ticks=(0, 1), ticklabels=('Predicted NO', 'Predicted YES'))\n",
    "ax.yaxis.set(ticks=(0, 1), ticklabels=('Actual NO', 'Actual YES'))\n",
    "ax.set_ylim(1.5, -0.5)\n",
    "for i in range(2):\n",
    "    for j in range(2):\n",
    "        ax.text(j, i, cm[i, j], ha='center', va='center', color='red')\n",
    "plt.show()\n",
    "\n",
    "print(classification_report(test_labels, y_pred_test))\n",
    "\n",
    "\n",
    "logisticRegr = LogisticRegression(penalty=\"l2\", tol=0.01, solver=\"sag\", class_weight=\"balanced\")\n",
    "logisticRegr.fit(train_data , train_labels)\n",
    "y_pred_train = logisticRegr.predict(train_data)\n",
    "y_pred_test = logisticRegr.predict(test_data)\n",
    "\n",
    "cm = confusion_matrix(train_labels, y_pred_train)\n",
    "\n",
    "fig, ax = plt.subplots(figsize=(8, 8))\n",
    "ax.imshow(cm)\n",
    "ax.grid(False)\n",
    "ax.xaxis.set(ticks=(0, 1), ticklabels=('Predicted NO', 'Predicted YES'))\n",
    "ax.yaxis.set(ticks=(0, 1), ticklabels=('Actual NO', 'Actual YES'))\n",
    "ax.set_ylim(1.5, -0.5)\n",
    "for i in range(2):\n",
    "    for j in range(2):\n",
    "        ax.text(j, i, cm[i, j], ha='center', va='center', color='red')\n",
    "plt.show()\n",
    "print(classification_report(train_labels, y_pred_train))\n",
    "\n",
    "cm = confusion_matrix(test_labels, y_pred_test)\n",
    "\n",
    "fig, ax = plt.subplots(figsize=(8, 8))\n",
    "ax.imshow(cm)\n",
    "ax.grid(False)\n",
    "ax.xaxis.set(ticks=(0, 1), ticklabels=('Predicted NO', 'Predicted YES'))\n",
    "ax.yaxis.set(ticks=(0, 1), ticklabels=('Actual NO', 'Actual YES'))\n",
    "ax.set_ylim(1.5, -0.5)\n",
    "for i in range(2):\n",
    "    for j in range(2):\n",
    "        ax.text(j, i, cm[i, j], ha='center', va='center', color='red')\n",
    "plt.show()\n",
    "\n",
    "print(classification_report(test_labels, y_pred_test))\n"
   ]
  },
  {
   "cell_type": "code",
   "execution_count": 36,
   "id": "f6d60e39",
   "metadata": {
    "scrolled": false
   },
   "outputs": [
    {
     "name": "stderr",
     "output_type": "stream",
     "text": [
      "C:\\Python310\\lib\\site-packages\\sklearn\\linear_model\\_logistic.py:444: ConvergenceWarning: lbfgs failed to converge (status=1):\n",
      "STOP: TOTAL NO. of ITERATIONS REACHED LIMIT.\n",
      "\n",
      "Increase the number of iterations (max_iter) or scale the data as shown in:\n",
      "    https://scikit-learn.org/stable/modules/preprocessing.html\n",
      "Please also refer to the documentation for alternative solver options:\n",
      "    https://scikit-learn.org/stable/modules/linear_model.html#logistic-regression\n",
      "  n_iter_i = _check_optimize_result(\n"
     ]
    },
    {
     "data": {
      "image/png": "[encoded data removed]",
      "text/plain": [
       "<Figure size 576x576 with 1 Axes>"
      ]
     },
     "metadata": {
      "needs_background": "light"
     },
     "output_type": "display_data"
    },
    {
     "name": "stdout",
     "output_type": "stream",
     "text": [
      "              precision    recall  f1-score   support\n",
      "\n",
      "           0       1.00      1.00      1.00      1341\n",
      "           1       1.00      1.00      1.00      3875\n",
      "\n",
      "    accuracy                           1.00      5216\n",
      "   macro avg       1.00      1.00      1.00      5216\n",
      "weighted avg       1.00      1.00      1.00      5216\n",
      "\n"
     ]
    },
    {
     "data": {
      "image/png": "[encoded data removed]",
      "text/plain": [
       "<Figure size 576x576 with 1 Axes>"
      ]
     },
     "metadata": {
      "needs_background": "light"
     },
     "output_type": "display_data"
    },
    {
     "name": "stdout",
     "output_type": "stream",
     "text": [
      "              precision    recall  f1-score   support\n",
      "\n",
      "           0       0.94      0.32      0.48       234\n",
      "           1       0.71      0.99      0.82       390\n",
      "\n",
      "    accuracy                           0.74       624\n",
      "   macro avg       0.82      0.65      0.65       624\n",
      "weighted avg       0.79      0.74      0.69       624\n",
      "\n"
     ]
    },
    {
     "name": "stderr",
     "output_type": "stream",
     "text": [
      "C:\\Python310\\lib\\site-packages\\sklearn\\linear_model\\_logistic.py:444: ConvergenceWarning: lbfgs failed to converge (status=1):\n",
      "STOP: TOTAL NO. of ITERATIONS REACHED LIMIT.\n",
      "\n",
      "Increase the number of iterations (max_iter) or scale the data as shown in:\n",
      "    https://scikit-learn.org/stable/modules/preprocessing.html\n",
      "Please also refer to the documentation for alternative solver options:\n",
      "    https://scikit-learn.org/stable/modules/linear_model.html#logistic-regression\n",
      "  n_iter_i = _check_optimize_result(\n"
     ]
    },
    {
     "data": {
      "image/png": "[encoded data removed]",
      "text/plain": [
       "<Figure size 576x576 with 1 Axes>"
      ]
     },
     "metadata": {
      "needs_background": "light"
     },
     "output_type": "display_data"
    },
    {
     "name": "stdout",
     "output_type": "stream",
     "text": [
      "              precision    recall  f1-score   support\n",
      "\n",
      "           0       1.00      1.00      1.00      1341\n",
      "           1       1.00      1.00      1.00      3875\n",
      "\n",
      "    accuracy                           1.00      5216\n",
      "   macro avg       1.00      1.00      1.00      5216\n",
      "weighted avg       1.00      1.00      1.00      5216\n",
      "\n"
     ]
    },
    {
     "data": {
      "image/png": "[encoded data removed]",
      "text/plain": [
       "<Figure size 576x576 with 1 Axes>"
      ]
     },
     "metadata": {
      "needs_background": "light"
     },
     "output_type": "display_data"
    },
    {
     "name": "stdout",
     "output_type": "stream",
     "text": [
      "              precision    recall  f1-score   support\n",
      "\n",
      "           0       0.92      0.30      0.46       234\n",
      "           1       0.70      0.98      0.82       390\n",
      "\n",
      "    accuracy                           0.73       624\n",
      "   macro avg       0.81      0.64      0.64       624\n",
      "weighted avg       0.78      0.73      0.68       624\n",
      "\n"
     ]
    }
   ],
   "source": [
    "#lbfgs\n",
    "logisticRegr = LogisticRegression(penalty=\"none\", tol=0.01, solver=\"lbfgs\")\n",
    "logisticRegr.fit(train_data , train_labels)\n",
    "y_pred_train = logisticRegr.predict(train_data)\n",
    "y_pred_test = logisticRegr.predict(test_data)\n",
    "\n",
    "cm = confusion_matrix(train_labels, y_pred_train)\n",
    "\n",
    "fig, ax = plt.subplots(figsize=(8, 8))\n",
    "ax.imshow(cm)\n",
    "ax.grid(False)\n",
    "ax.xaxis.set(ticks=(0, 1), ticklabels=('Predicted NO', 'Predicted YES'))\n",
    "ax.yaxis.set(ticks=(0, 1), ticklabels=('Actual NO', 'Actual YES'))\n",
    "ax.set_ylim(1.5, -0.5)\n",
    "for i in range(2):\n",
    "    for j in range(2):\n",
    "        ax.text(j, i, cm[i, j], ha='center', va='center', color='red')\n",
    "plt.show()\n",
    "print(classification_report(train_labels, y_pred_train))\n",
    "\n",
    "cm = confusion_matrix(test_labels, y_pred_test)\n",
    "\n",
    "fig, ax = plt.subplots(figsize=(8, 8))\n",
    "ax.imshow(cm)\n",
    "ax.grid(False)\n",
    "ax.xaxis.set(ticks=(0, 1), ticklabels=('Predicted NO', 'Predicted YES'))\n",
    "ax.yaxis.set(ticks=(0, 1), ticklabels=('Actual NO', 'Actual YES'))\n",
    "ax.set_ylim(1.5, -0.5)\n",
    "for i in range(2):\n",
    "    for j in range(2):\n",
    "        ax.text(j, i, cm[i, j], ha='center', va='center', color='red')\n",
    "plt.show()\n",
    "\n",
    "print(classification_report(test_labels, y_pred_test))\n",
    "\n",
    "logisticRegr = LogisticRegression(penalty=\"l2\", tol=0.01, solver=\"lbfgs\")\n",
    "logisticRegr.fit(train_data , train_labels)\n",
    "y_pred_train = logisticRegr.predict(train_data)\n",
    "y_pred_test = logisticRegr.predict(test_data)\n",
    "\n",
    "cm = confusion_matrix(train_labels, y_pred_train)\n",
    "\n",
    "fig, ax = plt.subplots(figsize=(8, 8))\n",
    "ax.imshow(cm)\n",
    "ax.grid(False)\n",
    "ax.xaxis.set(ticks=(0, 1), ticklabels=('Predicted NO', 'Predicted YES'))\n",
    "ax.yaxis.set(ticks=(0, 1), ticklabels=('Actual NO', 'Actual YES'))\n",
    "ax.set_ylim(1.5, -0.5)\n",
    "for i in range(2):\n",
    "    for j in range(2):\n",
    "        ax.text(j, i, cm[i, j], ha='center', va='center', color='red')\n",
    "plt.show()\n",
    "print(classification_report(train_labels, y_pred_train))\n",
    "\n",
    "cm = confusion_matrix(test_labels, y_pred_test)\n",
    "\n",
    "fig, ax = plt.subplots(figsize=(8, 8))\n",
    "ax.imshow(cm)\n",
    "ax.grid(False)\n",
    "ax.xaxis.set(ticks=(0, 1), ticklabels=('Predicted NO', 'Predicted YES'))\n",
    "ax.yaxis.set(ticks=(0, 1), ticklabels=('Actual NO', 'Actual YES'))\n",
    "ax.set_ylim(1.5, -0.5)\n",
    "for i in range(2):\n",
    "    for j in range(2):\n",
    "        ax.text(j, i, cm[i, j], ha='center', va='center', color='red')\n",
    "plt.show()\n",
    "\n",
    "print(classification_report(test_labels, y_pred_test))\n"
   ]
  },
  {
   "cell_type": "code",
   "execution_count": 37,
   "id": "0f89d95d",
   "metadata": {
    "scrolled": false
   },
   "outputs": [
    {
     "name": "stderr",
     "output_type": "stream",
     "text": [
      "C:\\Python310\\lib\\site-packages\\sklearn\\linear_model\\_logistic.py:444: ConvergenceWarning: lbfgs failed to converge (status=1):\n",
      "STOP: TOTAL NO. of ITERATIONS REACHED LIMIT.\n",
      "\n",
      "Increase the number of iterations (max_iter) or scale the data as shown in:\n",
      "    https://scikit-learn.org/stable/modules/preprocessing.html\n",
      "Please also refer to the documentation for alternative solver options:\n",
      "    https://scikit-learn.org/stable/modules/linear_model.html#logistic-regression\n",
      "  n_iter_i = _check_optimize_result(\n"
     ]
    },
    {
     "data": {
      "image/png": "[encoded data removed]",
      "text/plain": [
       "<Figure size 576x576 with 1 Axes>"
      ]
     },
     "metadata": {
      "needs_background": "light"
     },
     "output_type": "display_data"
    },
    {
     "name": "stdout",
     "output_type": "stream",
     "text": [
      "              precision    recall  f1-score   support\n",
      "\n",
      "           0       1.00      1.00      1.00      1341\n",
      "           1       1.00      1.00      1.00      3875\n",
      "\n",
      "    accuracy                           1.00      5216\n",
      "   macro avg       1.00      1.00      1.00      5216\n",
      "weighted avg       1.00      1.00      1.00      5216\n",
      "\n"
     ]
    },
    {
     "data": {
      "image/png": "[encoded data removed]",
      "text/plain": [
       "<Figure size 576x576 with 1 Axes>"
      ]
     },
     "metadata": {
      "needs_background": "light"
     },
     "output_type": "display_data"
    },
    {
     "name": "stdout",
     "output_type": "stream",
     "text": [
      "              precision    recall  f1-score   support\n",
      "\n",
      "           0       0.95      0.29      0.45       234\n",
      "           1       0.70      0.99      0.82       390\n",
      "\n",
      "    accuracy                           0.73       624\n",
      "   macro avg       0.82      0.64      0.63       624\n",
      "weighted avg       0.79      0.73      0.68       624\n",
      "\n"
     ]
    },
    {
     "name": "stderr",
     "output_type": "stream",
     "text": [
      "C:\\Python310\\lib\\site-packages\\sklearn\\linear_model\\_logistic.py:444: ConvergenceWarning: lbfgs failed to converge (status=1):\n",
      "STOP: TOTAL NO. of ITERATIONS REACHED LIMIT.\n",
      "\n",
      "Increase the number of iterations (max_iter) or scale the data as shown in:\n",
      "    https://scikit-learn.org/stable/modules/preprocessing.html\n",
      "Please also refer to the documentation for alternative solver options:\n",
      "    https://scikit-learn.org/stable/modules/linear_model.html#logistic-regression\n",
      "  n_iter_i = _check_optimize_result(\n"
     ]
    },
    {
     "data": {
      "image/png": "[encoded data removed]",
      "text/plain": [
       "<Figure size 576x576 with 1 Axes>"
      ]
     },
     "metadata": {
      "needs_background": "light"
     },
     "output_type": "display_data"
    },
    {
     "name": "stdout",
     "output_type": "stream",
     "text": [
      "              precision    recall  f1-score   support\n",
      "\n",
      "           0       1.00      1.00      1.00      1341\n",
      "           1       1.00      1.00      1.00      3875\n",
      "\n",
      "    accuracy                           1.00      5216\n",
      "   macro avg       1.00      1.00      1.00      5216\n",
      "weighted avg       1.00      1.00      1.00      5216\n",
      "\n"
     ]
    },
    {
     "data": {
      "image/png": "[encoded data removed]",
      "text/plain": [
       "<Figure size 576x576 with 1 Axes>"
      ]
     },
     "metadata": {
      "needs_background": "light"
     },
     "output_type": "display_data"
    },
    {
     "name": "stdout",
     "output_type": "stream",
     "text": [
      "              precision    recall  f1-score   support\n",
      "\n",
      "           0       0.92      0.31      0.47       234\n",
      "           1       0.70      0.98      0.82       390\n",
      "\n",
      "    accuracy                           0.73       624\n",
      "   macro avg       0.81      0.65      0.64       624\n",
      "weighted avg       0.79      0.73      0.69       624\n",
      "\n"
     ]
    }
   ],
   "source": [
    "#lbfgs\n",
    "logisticRegr = LogisticRegression(penalty=\"none\", tol=0.01, solver=\"lbfgs\", class_weight=\"balanced\")\n",
    "logisticRegr.fit(train_data , train_labels)\n",
    "y_pred_train = logisticRegr.predict(train_data)\n",
    "y_pred_test = logisticRegr.predict(test_data)\n",
    "\n",
    "cm = confusion_matrix(train_labels, y_pred_train)\n",
    "\n",
    "fig, ax = plt.subplots(figsize=(8, 8))\n",
    "ax.imshow(cm)\n",
    "ax.grid(False)\n",
    "ax.xaxis.set(ticks=(0, 1), ticklabels=('Predicted NO', 'Predicted YES'))\n",
    "ax.yaxis.set(ticks=(0, 1), ticklabels=('Actual NO', 'Actual YES'))\n",
    "ax.set_ylim(1.5, -0.5)\n",
    "for i in range(2):\n",
    "    for j in range(2):\n",
    "        ax.text(j, i, cm[i, j], ha='center', va='center', color='red')\n",
    "plt.show()\n",
    "print(classification_report(train_labels, y_pred_train))\n",
    "\n",
    "cm = confusion_matrix(test_labels, y_pred_test)\n",
    "\n",
    "fig, ax = plt.subplots(figsize=(8, 8))\n",
    "ax.imshow(cm)\n",
    "ax.grid(False)\n",
    "ax.xaxis.set(ticks=(0, 1), ticklabels=('Predicted NO', 'Predicted YES'))\n",
    "ax.yaxis.set(ticks=(0, 1), ticklabels=('Actual NO', 'Actual YES'))\n",
    "ax.set_ylim(1.5, -0.5)\n",
    "for i in range(2):\n",
    "    for j in range(2):\n",
    "        ax.text(j, i, cm[i, j], ha='center', va='center', color='red')\n",
    "plt.show()\n",
    "\n",
    "print(classification_report(test_labels, y_pred_test))\n",
    "\n",
    "\n",
    "logisticRegr = LogisticRegression(penalty=\"l2\", tol=0.01, solver=\"lbfgs\", class_weight=\"balanced\")\n",
    "logisticRegr.fit(train_data , train_labels)\n",
    "y_pred_train = logisticRegr.predict(train_data)\n",
    "y_pred_test = logisticRegr.predict(test_data)\n",
    "\n",
    "cm = confusion_matrix(train_labels, y_pred_train)\n",
    "\n",
    "fig, ax = plt.subplots(figsize=(8, 8))\n",
    "ax.imshow(cm)\n",
    "ax.grid(False)\n",
    "ax.xaxis.set(ticks=(0, 1), ticklabels=('Predicted NO', 'Predicted YES'))\n",
    "ax.yaxis.set(ticks=(0, 1), ticklabels=('Actual NO', 'Actual YES'))\n",
    "ax.set_ylim(1.5, -0.5)\n",
    "for i in range(2):\n",
    "    for j in range(2):\n",
    "        ax.text(j, i, cm[i, j], ha='center', va='center', color='red')\n",
    "plt.show()\n",
    "print(classification_report(train_labels, y_pred_train))\n",
    "\n",
    "cm = confusion_matrix(test_labels, y_pred_test)\n",
    "\n",
    "fig, ax = plt.subplots(figsize=(8, 8))\n",
    "ax.imshow(cm)\n",
    "ax.grid(False)\n",
    "ax.xaxis.set(ticks=(0, 1), ticklabels=('Predicted NO', 'Predicted YES'))\n",
    "ax.yaxis.set(ticks=(0, 1), ticklabels=('Actual NO', 'Actual YES'))\n",
    "ax.set_ylim(1.5, -0.5)\n",
    "for i in range(2):\n",
    "    for j in range(2):\n",
    "        ax.text(j, i, cm[i, j], ha='center', va='center', color='red')\n",
    "plt.show()\n",
    "\n",
    "print(classification_report(test_labels, y_pred_test))\n"
   ]
  }
 ],
 "metadata": {
  "kernelspec": {
   "display_name": "Python 3 (ipykernel)",
   "language": "python",
   "name": "python3"
  },
  "language_info": {
   "codemirror_mode": {
    "name": "ipython",
    "version": 3
   },
   "file_extension": ".py",
   "mimetype": "text/x-python",
   "name": "python",
   "nbconvert_exporter": "python",
   "pygments_lexer": "ipython3",
   "version": "3.10.2"
  }
 },
 "nbformat": 4,
 "nbformat_minor": 5
}
