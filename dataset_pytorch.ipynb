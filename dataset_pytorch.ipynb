{
 "cells": [
  {
   "cell_type": "code",
   "execution_count": 1,
   "metadata": {},
   "outputs": [
    {
     "name": "stderr",
     "output_type": "stream",
     "text": [
      "/home/nasser/.local/lib/python3.7/site-packages/tqdm/auto.py:22: TqdmWarning: IProgress not found. Please update jupyter and ipywidgets. See https://ipywidgets.readthedocs.io/en/stable/user_install.html\n",
      "  from .autonotebook import tqdm as notebook_tqdm\n"
     ]
    }
   ],
   "source": [
    "import torchvision.transforms as transforms\n",
    "from PIL import Image\n",
    "import random\n",
    "\n",
    "from torch.utils.data import TensorDataset, DataLoader\n",
    "from torch.utils.data import Dataset, DataLoader\n",
    "import torch"
   ]
  },
  {
   "cell_type": "code",
   "execution_count": 2,
   "metadata": {},
   "outputs": [],
   "source": [
    "# CHANGE depending on your local machine\n",
    "# os.chdir(\"/mnt/d/WSL/COMP9417/pneumonia\")\n",
    "\n",
    "\n",
    "base_dir = 'chest_xray/'\n",
    "\n",
    "train_dir = base_dir + 'train/'\n",
    "test_dir = base_dir + 'test/'\n",
    "val_dir = base_dir + 'val/'\n",
    "\n",
    "train_neg = train_dir + 'NORMAL'\n",
    "train_pos = train_dir + 'PNEUMONIA'\n",
    "test_neg = test_dir + 'NORMAL'\n",
    "test_pos = test_dir + 'PNEUMONIA'\n",
    "val_neg = val_dir + 'NORMAL'\n",
    "val_pos = val_dir + 'PNEUMONIA'\n",
    "\n",
    "train_pos = [train_pos+'/'+i  for i in os.listdir(train_pos) ]\n",
    "train_neg = [train_neg + '/' + i for i in os.listdir(train_neg) ]\n",
    "\n",
    "\n",
    "test_pos = [test_pos + '/' + i for i in os.listdir(test_pos) ]\n",
    "test_neg = [test_neg + '/' + i for i in os.listdir(test_neg)]\n",
    "\n",
    "val_pos = [val_pos + '/' + i for i in os.listdir(val_pos)]\n",
    "val_neg = [val_neg + '/' + i for i in os.listdir(val_neg)]\n",
    "\n"
   ]
  },
  {
   "cell_type": "code",
   "execution_count": 3,
   "metadata": {},
   "outputs": [],
   "source": [
    "train_paths = train_pos + train_neg\n",
    "random.seed(42) # Answer to life the universe and everything\n",
    "random.shuffle(train_paths)"
   ]
  },
  {
   "cell_type": "code",
   "execution_count": 8,
   "metadata": {},
   "outputs": [],
   "source": [
    "#######################################################\n",
    "#               Define Dataset Class\n",
    "#######################################################\n",
    "\n",
    "class pneumonia_dataset(Dataset):\n",
    "    def __init__(self, image_paths):\n",
    "        self.image_paths = train_paths\n",
    "        \n",
    "    def __len__(self):\n",
    "        return len(self.image_paths)\n",
    "\n",
    "    def __getitem__(self, idx):\n",
    "        image_filepath = self.image_paths[idx]\n",
    "        img = Image.open(image_filepath)\n",
    "        newsize = (127, 127)\n",
    "        img = img.resize(newsize)\n",
    "        \n",
    "        transform = transforms.Compose([\n",
    "            transforms.PILToTensor()\n",
    "        ])\n",
    "        img_tensor = transform(img)\n",
    "\n",
    "        label = 0\n",
    "        if \"bacteria\" in image_filepath:\n",
    "            label = 1\n",
    "        if \"virus\" in image_filepath:\n",
    "            label = 2\n",
    "        \n",
    "        return img_tensor, torch.tensor([label])"
   ]
  },
  {
   "cell_type": "code",
   "execution_count": 9,
   "metadata": {},
   "outputs": [],
   "source": [
    "#######################################################\n",
    "#                  Create Dataset\n",
    "#######################################################\n",
    "\n",
    "# label definitions\n",
    "# NORMAL = 0\n",
    "# BACTERIA = 1\n",
    "# VIRUS = 2\n",
    "\n",
    "train_dataset = pneumonia_dataset(train_paths)"
   ]
  },
  {
   "cell_type": "code",
   "execution_count": 10,
   "metadata": {},
   "outputs": [],
   "source": [
    "# https://stanford.edu/~shervine/blog/pytorch-how-to-generate-data-parallel\n",
    "\n"
   ]
  },
  {
   "cell_type": "code",
   "execution_count": 11,
   "metadata": {},
   "outputs": [],
   "source": [
    "# Do as above but for test set:\n",
    "test_paths = test_pos + test_neg\n",
    "random.shuffle(train_paths)\n",
    "test_dataset = pneumonia_dataset(test_paths)"
   ]
  },
  {
   "cell_type": "code",
   "execution_count": null,
   "metadata": {},
   "outputs": [],
   "source": [
    "# NORMAL = 0\n",
    "# BACTERIA = 1\n",
    "# VIRUS = 2"
   ]
  }
 ],
 "metadata": {
  "kernelspec": {
   "display_name": "Python 3.7.3 64-bit",
   "language": "python",
   "name": "python3"
  },
  "language_info": {
   "codemirror_mode": {
    "name": "ipython",
    "version": 3
   },
   "file_extension": ".py",
   "mimetype": "text/x-python",
   "name": "python",
   "nbconvert_exporter": "python",
   "pygments_lexer": "ipython3",
   "version": "3.7.3"
  },
  "orig_nbformat": 4,
  "vscode": {
   "interpreter": {
    "hash": "31f2aee4e71d21fbe5cf8b01ff0e069b9275f58929596ceb00d14d90e3e16cd6"
   }
  }
 },
 "nbformat": 4,
 "nbformat_minor": 2
}
