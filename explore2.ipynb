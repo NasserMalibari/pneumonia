{
 "cells": [
  {
   "cell_type": "markdown",
   "metadata": {},
   "source": [
    "# Working with the Pneumonia dataset\n",
    "\n",
    "This is an exploration into the Pneumonia data set on kaggle: https://www.kaggle.com/datasets/paultimothymooney/chest-xray-pneumonia\n",
    "\n",
    "## Stucture of current directory\n"
   ]
  },
  {
   "cell_type": "markdown",
   "metadata": {},
   "source": [
    "- The current directory has a directory called \"chest_xray\"\n",
    "\n",
    "- Inside chest_xray there is a train, test and validation directory.\n",
    "\n",
    "- Inside each of these directory's are directories called \"NORMAL\" and \"PNEUMONIA\"\n",
    "\n",
    "- Inside any \"NORMAL\" or \"PNEUMONIA\" directory are jpeg files\n",
    "\n",
    "- Note: inside the PNEUMONIA directory, we can see that there are two types of pneumonia: virus and bacteria.\n",
    "\n",
    "For my first models I will not differentiate these but looking to classify these seperately is an interesting extension.\n"
   ]
  },
  {
   "cell_type": "code",
   "execution_count": 3,
   "metadata": {},
   "outputs": [],
   "source": [
    "# importing some packages\n",
    "\n",
    "import os\n",
    "import numpy as np\n",
    "import pandas as pd\n",
    "import matplotlib.pyplot as plt\n",
    "import cv2 "
   ]
  },
  {
   "cell_type": "markdown",
   "metadata": {},
   "source": [
    "Now, I will do some exploration of the data, get counts of each of the data types"
   ]
  },
  {
   "cell_type": "code",
   "execution_count": 4,
   "metadata": {},
   "outputs": [
    {
     "name": "stdout",
     "output_type": "stream",
     "text": [
      "3875\n"
     ]
    }
   ],
   "source": [
    "\n",
    "# CHANGE depending on your local machine\n",
    "# os.chdir(\"/mnt/d/WSL/COMP9417/pneumonia\")\n",
    "\n",
    "\n",
    "base_dir = 'chest_xray/'\n",
    "\n",
    "train_dir = base_dir + 'train/'\n",
    "test_dir = base_dir + 'test/'\n",
    "val_dir = base_dir + 'val/'\n",
    "\n",
    "train_neg = train_dir + 'NORMAL'\n",
    "train_pos = train_dir + 'PNEUMONIA'\n",
    "test_neg = test_dir + 'NORMAL'\n",
    "test_pos = test_dir + 'PNEUMONIA'\n",
    "val_neg = val_dir + 'NORMAL'\n",
    "val_pos = val_dir + 'PNEUMONIA'\n",
    "\n",
    "train_pos = [train_pos+'/'+i  for i in os.listdir(train_pos) ]\n",
    "train_neg = [train_neg + '/' + i for i in os.listdir(train_neg) ]\n",
    "\n",
    "\n",
    "test_pos = [test_pos + '/' + i for i in os.listdir(test_pos) ]\n",
    "test_neg = [test_neg + '/' + i for i in os.listdir(test_neg)]\n",
    "\n",
    "val_pos = [val_pos + '/' + i for i in os.listdir(val_pos)]\n",
    "val_neg = [val_neg + '/' + i for i in os.listdir(val_neg)]\n",
    "print(len(train_pos))\n"
   ]
  },
  {
   "cell_type": "code",
   "execution_count": 5,
   "metadata": {},
   "outputs": [
    {
     "data": {
      "image/png": "[encoded data removed]",
      "text/plain": [
       "<Figure size 432x288 with 1 Axes>"
      ]
     },
     "metadata": {
      "needs_background": "light"
     },
     "output_type": "display_data"
    },
    {
     "data": {
      "image/png": "[encoded data removed]",
      "text/plain": [
       "<Figure size 432x288 with 1 Axes>"
      ]
     },
     "metadata": {
      "needs_background": "light"
     },
     "output_type": "display_data"
    },
    {
     "data": {
      "image/png": "[encoded data removed]",
      "text/plain": [
       "<Figure size 432x288 with 1 Axes>"
      ]
     },
     "metadata": {
      "needs_background": "light"
     },
     "output_type": "display_data"
    },
    {
     "name": "stdout",
     "output_type": "stream",
     "text": [
      "0.7429064417177914\n"
     ]
    }
   ],
   "source": [
    "# plot number of positive and negative examples:\n",
    "\n",
    "fig = plt.figure()\n",
    "\n",
    "plt.bar(\"negative\", len(train_neg),  color = 'g')\n",
    "plt.bar(\"positive\", len(train_pos), color = \"r\")\n",
    "plt.title(\"Number of positive and negative examples in train set\")\n",
    "plt.show()\n",
    "\n",
    "\n",
    "fig = plt.figure()\n",
    "\n",
    "plt.bar(\"negative\", len(val_neg),  color = 'g')\n",
    "plt.bar(\"positive\", len(val_pos), color = \"r\")\n",
    "plt.title(\"Number of positive and negative examples in validation set\")\n",
    "plt.show()\n",
    "\n",
    "\n",
    "fig = plt.figure()\n",
    "\n",
    "plt.bar(\"negative\", len(test_neg),  color = 'g')\n",
    "plt.bar(\"positive\", len(test_pos), color = \"r\")\n",
    "plt.title(\"Number of positive and negative examples in test set\")\n",
    "plt.show()\n",
    "\n",
    "print(len(train_pos)/ (len(train_neg) + len(train_pos)))"
   ]
  },
  {
   "cell_type": "markdown",
   "metadata": {},
   "source": [
    "We can see that there are many more positive examples than negative examples in our data, perhaps in our proposed models, we should add weights to counter this inbalance.\n",
    "\n",
    "There are not enough samples in the validation set, one option is to combine all the samples and make our own train and test set, rather than use the given split. For now, I will use the given splits."
   ]
  },
  {
   "cell_type": "markdown",
   "metadata": {},
   "source": [
    "Below I will fit a logistic regression, going to reduce the image via greyscale and reduce the dimensions of the image to 127 by 127 pixels as this is the lowest dimension of the images. Probably not going to be the best model but should be a good baseline.\n"
   ]
  },
  {
   "cell_type": "code",
   "execution_count": 7,
   "metadata": {},
   "outputs": [
    {
     "name": "stdout",
     "output_type": "stream",
     "text": [
      "0 images processed\n",
      "750 images processed\n",
      "1500 images processed\n",
      "2250 images processed\n",
      "3000 images processed\n",
      "3750 images processed\n",
      "4500 images processed\n",
      "3875\n",
      "min width is 127\n",
      "min heights is 384\n"
     ]
    }
   ],
   "source": [
    "\n",
    "train_full = train_pos + train_neg\n",
    "\n",
    "# resizing images\n",
    "\n",
    "# size of smallest image()\n",
    "image_size = 127\n",
    "\n",
    "# there are a few packages for image reading, here im using cv2\n",
    "\n",
    "widths_train = []\n",
    "heights_train = []\n",
    "\n",
    "train_data = []\n",
    "train_labels = []\n",
    "\n",
    "count = 0\n",
    "for train_img in train_full:\n",
    "    img = cv2.imread(train_img, cv2.IMREAD_GRAYSCALE)\n",
    "    \n",
    "    widths_train.append(img.shape[0])\n",
    "    heights_train.append(img.shape[1])\n",
    "    \n",
    "    img = cv2.resize(img, (image_size, image_size)).flatten()\n",
    "    np_img = np.asarray(img)\n",
    "    \n",
    "    train_data.append(np_img)\n",
    "    \n",
    "    if \"bacteria\" in train_img or \"virus\" in train_img:\n",
    "        train_labels.append(1)\n",
    "    else:\n",
    "        train_labels.append(0)\n",
    "\n",
    "    if count % 750 == 0:\n",
    "        print(f\"{count} images processed\")\n",
    "    count += 1\n",
    "\n",
    "\n",
    "\n",
    "print(sum(train_labels))\n",
    "\n",
    "\n",
    "print(f\"min width is {min(widths_train)}\")\n",
    "print(f\"min heights is {min(heights_train)}\")"
   ]
  },
  {
   "cell_type": "code",
   "execution_count": 8,
   "metadata": {},
   "outputs": [
    {
     "name": "stdout",
     "output_type": "stream",
     "text": [
      "[127, 132, 138, 140, 144, 151, 156, 157, 163, 164]\n",
      "[384, 399, 400, 407, 415, 428, 428, 437, 438, 438]\n"
     ]
    }
   ],
   "source": [
    "# printing lowest 10 image height and widths\n",
    "\n",
    "print(sorted(widths_train)[:10])\n",
    "print(sorted(heights_train)[:10])"
   ]
  },
  {
   "cell_type": "code",
   "execution_count": 9,
   "metadata": {},
   "outputs": [
    {
     "name": "stdout",
     "output_type": "stream",
     "text": [
      "0 images processed\n",
      "100 images processed\n",
      "200 images processed\n",
      "300 images processed\n",
      "400 images processed\n",
      "500 images processed\n",
      "600 images processed\n",
      "390\n",
      "min width is 344\n",
      "min heights is 728\n"
     ]
    }
   ],
   "source": [
    "test_data = []\n",
    "test_labels = []\n",
    "\n",
    "test_full = test_neg + test_pos\n",
    "\n",
    "\n",
    "widths = []\n",
    "heights = []\n",
    "\n",
    "count = 0\n",
    "for test_img in test_full:\n",
    "    img = cv2.imread(test_img, cv2.IMREAD_GRAYSCALE)\n",
    "    widths.append(img.shape[0])\n",
    "    heights.append(img.shape[1])\n",
    "    img = cv2.resize(img, (image_size, image_size)).flatten()\n",
    "    np_img = np.asarray(img)\n",
    "    test_data.append(np_img)\n",
    "    if \"bacteria\" in test_img or \"virus\" in test_img:\n",
    "        test_labels.append(1)\n",
    "    else:\n",
    "        test_labels.append(0)\n",
    "\n",
    "    if count % 100 == 0:\n",
    "        print(f\"{count} images processed\")\n",
    "    count += 1\n",
    "    \n",
    "print(sum(test_labels))\n",
    "\n",
    "\n",
    "print(f\"min width is {min(widths)}\")\n",
    "print(f\"min heights is {min(heights)}\")\n"
   ]
  },
  {
   "cell_type": "code",
   "execution_count": 10,
   "metadata": {},
   "outputs": [
    {
     "name": "stderr",
     "output_type": "stream",
     "text": [
      "/home/nasser/.local/lib/python3.7/site-packages/sklearn/linear_model/_logistic.py:818: ConvergenceWarning: lbfgs failed to converge (status=1):\n",
      "STOP: TOTAL NO. of ITERATIONS REACHED LIMIT.\n",
      "\n",
      "Increase the number of iterations (max_iter) or scale the data as shown in:\n",
      "    https://scikit-learn.org/stable/modules/preprocessing.html\n",
      "Please also refer to the documentation for alternative solver options:\n",
      "    https://scikit-learn.org/stable/modules/linear_model.html#logistic-regression\n",
      "  extra_warning_msg=_LOGISTIC_SOLVER_CONVERGENCE_MSG,\n"
     ]
    },
    {
     "name": "stdout",
     "output_type": "stream",
     "text": [
      "train score = 1.0\n",
      "test score = 0.7339743589743589\n"
     ]
    }
   ],
   "source": [
    "from sklearn.linear_model import LogisticRegression\n",
    "\n",
    "# convert to np arrays\n",
    "train_data = np.array(train_data)\n",
    "train_labels = np.array(train_labels)\n",
    "\n",
    "\n",
    "test_data = np.array(test_data)\n",
    "test_labels = np.array(test_labels)\n",
    "\n",
    "logisticRegr = LogisticRegression()\n",
    "logisticRegr.fit(train_data , train_labels)\n",
    "\n",
    "score = logisticRegr.score(train_data, train_labels)\n",
    "print(f\"train score = {score}\")\n",
    "\n",
    "test_score = logisticRegr.score(test_data, test_labels)\n",
    "print(f\"test score = {test_score}\")\n"
   ]
  },
  {
   "cell_type": "markdown",
   "metadata": {},
   "source": [
    "The train accuracy is very good which is to be expected but the test score is very bad.\n",
    "\n",
    "The test accuracy, however, is very poor, this is can be seen by a \"model\" which only predicts positive outcomes, their test accuracy would be:\n",
    "\n",
    "(positive cases)/ (total cases) = 0.7429064417177914, so this would perform better according to this accuracy score."
   ]
  },
  {
   "cell_type": "code",
   "execution_count": 11,
   "metadata": {},
   "outputs": [
    {
     "name": "stdout",
     "output_type": "stream",
     "text": [
      "[[ 73 161]\n",
      " [  5 385]]\n"
     ]
    }
   ],
   "source": [
    "from sklearn import metrics\n",
    "\n",
    "\n",
    "predictions = logisticRegr.predict(test_data)\n",
    "cm = metrics.confusion_matrix(test_labels, predictions)\n",
    "print(cm)\n"
   ]
  },
  {
   "cell_type": "markdown",
   "metadata": {},
   "source": [
    "The confusion matrix tells us that we have 73 true negatives, 6 false negative, 161 false positives and 384 true positives"
   ]
  },
  {
   "cell_type": "markdown",
   "metadata": {},
   "source": [
    "TODO: More graphs and extend on the logistic regression model (different solvers, score functions, prepocessing, adding weights etc)"
   ]
  }
 ],
 "metadata": {
  "kernelspec": {
   "display_name": "Python 3.7.3 64-bit",
   "language": "python",
   "name": "python3"
  },
  "language_info": {
   "codemirror_mode": {
    "name": "ipython",
    "version": 3
   },
   "file_extension": ".py",
   "mimetype": "text/x-python",
   "name": "python",
   "nbconvert_exporter": "python",
   "pygments_lexer": "ipython3",
   "version": "3.7.3"
  },
  "orig_nbformat": 4,
  "vscode": {
   "interpreter": {
    "hash": "31f2aee4e71d21fbe5cf8b01ff0e069b9275f58929596ceb00d14d90e3e16cd6"
   }
  }
 },
 "nbformat": 4,
 "nbformat_minor": 2
}
