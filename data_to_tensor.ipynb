{
 "cells": [
  {
   "cell_type": "code",
   "execution_count": 62,
   "metadata": {},
   "outputs": [],
   "source": [
    "import torchvision.transforms as transforms\n",
    "from PIL import Image\n",
    "import random\n",
    "import torch \n",
    "import torchvision\n",
    "from torch.utils.data import TensorDataset, DataLoader\n",
    "\n"
   ]
  },
  {
   "cell_type": "code",
   "execution_count": 63,
   "metadata": {},
   "outputs": [
    {
     "name": "stdout",
     "output_type": "stream",
     "text": [
      "3875\n"
     ]
    }
   ],
   "source": [
    "# CHANGE depending on your local machine\n",
    "# os.chdir(\"/mnt/d/WSL/COMP9417/pneumonia\")\n",
    "\n",
    "\n",
    "base_dir = 'chest_xray/'\n",
    "\n",
    "train_dir = base_dir + 'train/'\n",
    "test_dir = base_dir + 'test/'\n",
    "val_dir = base_dir + 'val/'\n",
    "\n",
    "train_neg = train_dir + 'NORMAL'\n",
    "train_pos = train_dir + 'PNEUMONIA'\n",
    "test_neg = test_dir + 'NORMAL'\n",
    "test_pos = test_dir + 'PNEUMONIA'\n",
    "val_neg = val_dir + 'NORMAL'\n",
    "val_pos = val_dir + 'PNEUMONIA'\n",
    "\n",
    "train_pos = [train_pos+'/'+i  for i in os.listdir(train_pos) ]\n",
    "train_neg = [train_neg + '/' + i for i in os.listdir(train_neg) ]\n",
    "\n",
    "\n",
    "test_pos = [test_pos + '/' + i for i in os.listdir(test_pos) ]\n",
    "test_neg = [test_neg + '/' + i for i in os.listdir(test_neg)]\n",
    "\n",
    "val_pos = [val_pos + '/' + i for i in os.listdir(val_pos)]\n",
    "val_neg = [val_neg + '/' + i for i in os.listdir(val_neg)]\n",
    "print(len(train_pos))"
   ]
  },
  {
   "cell_type": "code",
   "execution_count": 64,
   "metadata": {},
   "outputs": [
    {
     "data": {
      "image/png": "[encoded data removed]",
      "text/plain": [
       "<PIL.Image.Image image mode=L size=127x127 at 0x7FC4EC2E7748>"
      ]
     },
     "metadata": {},
     "output_type": "display_data"
    },
    {
     "name": "stdout",
     "output_type": "stream",
     "text": [
      "tensor([[[[20, 27, 30,  ..., 16,  9,  2],\n",
      "          [23, 27, 34,  ..., 17, 11,  4],\n",
      "          [22, 29, 38,  ..., 18, 11,  4],\n",
      "          ...,\n",
      "          [10,  9,  7,  ..., 15, 15, 15],\n",
      "          [10,  9,  7,  ..., 15, 15, 15],\n",
      "          [10, 10,  7,  ..., 15, 15, 15]]]], dtype=torch.uint8)\n",
      "torch.Size([1, 1, 127, 127])\n"
     ]
    }
   ],
   "source": [
    "\n",
    "\n",
    "img = Image.open(train_pos[0])\n",
    "# coordinate = x, y = 0, 0\n",
    "# print(img.getpixel(coordinate))\n",
    "\n",
    "# resize image\n",
    "newsize = (127, 127)\n",
    "img = img.resize(newsize)\n",
    "\n",
    "img.show()\n",
    "transform = transforms.Compose([\n",
    "    transforms.PILToTensor()\n",
    "])\n",
    "img_tensor = transform(img)\n",
    "img_tensor = img_tensor.unsqueeze(0)\n",
    "print(img_tensor)\n",
    "print(img_tensor.size())\n",
    "\n"
   ]
  },
  {
   "cell_type": "code",
   "execution_count": 83,
   "metadata": {},
   "outputs": [
    {
     "name": "stdout",
     "output_type": "stream",
     "text": [
      "torch.Size([1, 1, 127, 127])\n",
      "torch.Size([2, 1, 127, 127])\n",
      "torch.Size([3, 1, 127, 127])\n"
     ]
    }
   ],
   "source": [
    "# stack 2 manually\n",
    "\n",
    "img = Image.open(train_pos[0])\n",
    "# coordinate = x, y = 0, 0\n",
    "# print(img.getpixel(coordinate))\n",
    "\n",
    "# resize image\n",
    "newsize = (127, 127)\n",
    "img = img.resize(newsize)\n",
    "\n",
    "transform = transforms.Compose([\n",
    "    transforms.PILToTensor()\n",
    "])\n",
    "img_tensor = transform(img)\n",
    "img_tensor = img_tensor.unsqueeze(0)\n",
    "x = img_tensor\n",
    "\n",
    "img = Image.open(train_pos[1])\n",
    "# coordinate = x, y = 0, 0\n",
    "# print(img.getpixel(coordinate))\n",
    "\n",
    "# resize image\n",
    "newsize = (127, 127)\n",
    "img = img.resize(newsize)\n",
    "\n",
    "transform = transforms.Compose([\n",
    "    transforms.PILToTensor()\n",
    "])\n",
    "img_tensor = transform(img)\n",
    "img_tensor = img_tensor.unsqueeze(0)\n",
    "y = img_tensor\n",
    "print(y.size())\n",
    "\n",
    "stacked = torch.cat((x,y))\n",
    "print(stacked.size())\n",
    "\n",
    "img = Image.open(train_pos[1])\n",
    "# coordinate = x, y = 0, 0\n",
    "# print(img.getpixel(coordinate))\n",
    "\n",
    "# resize image\n",
    "newsize = (127, 127)\n",
    "img = img.resize(newsize)\n",
    "\n",
    "transform = transforms.Compose([\n",
    "    transforms.PILToTensor()\n",
    "])\n",
    "img_tensor = transform(img)\n",
    "img_tensor = img_tensor.unsqueeze(0)\n",
    "z = img_tensor\n",
    "\n",
    "stacked = torch.cat((stacked,z))\n",
    "print(stacked.size())\n",
    "\n"
   ]
  },
  {
   "cell_type": "code",
   "execution_count": 73,
   "metadata": {},
   "outputs": [
    {
     "name": "stdout",
     "output_type": "stream",
     "text": [
      "<class 'torch.Tensor'>\n"
     ]
    },
    {
     "ename": "RuntimeError",
     "evalue": "stack expects each tensor to be equal size, but got [3, 127, 127] at entry 0 and [1, 1, 127, 127] at entry 1",
     "output_type": "error",
     "traceback": [
      "\u001b[0;31m---------------------------------------------------------------------------\u001b[0m",
      "\u001b[0;31mRuntimeError\u001b[0m                              Traceback (most recent call last)",
      "\u001b[0;32m/tmp/ipykernel_408/3809732097.py\u001b[0m in \u001b[0;36m<module>\u001b[0;34m\u001b[0m\n\u001b[1;32m     30\u001b[0m     \u001b[0mimg_tensor\u001b[0m \u001b[0;34m=\u001b[0m \u001b[0mimg_tensor\u001b[0m\u001b[0;34m.\u001b[0m\u001b[0munsqueeze\u001b[0m\u001b[0;34m(\u001b[0m\u001b[0;36m0\u001b[0m\u001b[0;34m)\u001b[0m\u001b[0;34m\u001b[0m\u001b[0;34m\u001b[0m\u001b[0m\n\u001b[1;32m     31\u001b[0m     \u001b[0;31m# train_data.append(img_tensor)\u001b[0m\u001b[0;34m\u001b[0m\u001b[0;34m\u001b[0m\u001b[0;34m\u001b[0m\u001b[0m\n\u001b[0;32m---> 32\u001b[0;31m     \u001b[0mtrain_tensor\u001b[0m \u001b[0;34m=\u001b[0m \u001b[0mtorch\u001b[0m\u001b[0;34m.\u001b[0m\u001b[0mstack\u001b[0m\u001b[0;34m(\u001b[0m\u001b[0;34m(\u001b[0m\u001b[0mtrain_tensor\u001b[0m\u001b[0;34m,\u001b[0m \u001b[0mimg_tensor\u001b[0m\u001b[0;34m)\u001b[0m\u001b[0;34m)\u001b[0m\u001b[0;34m\u001b[0m\u001b[0;34m\u001b[0m\u001b[0m\n\u001b[0m\u001b[1;32m     33\u001b[0m     \u001b[0mprint\u001b[0m\u001b[0;34m(\u001b[0m\u001b[0mi\u001b[0m\u001b[0;34m)\u001b[0m\u001b[0;34m\u001b[0m\u001b[0;34m\u001b[0m\u001b[0m\n\u001b[1;32m     34\u001b[0m \u001b[0;34m\u001b[0m\u001b[0m\n",
      "\u001b[0;31mRuntimeError\u001b[0m: stack expects each tensor to be equal size, but got [3, 127, 127] at entry 0 and [1, 1, 127, 127] at entry 1"
     ]
    }
   ],
   "source": [
    "train_full = train_pos + train_neg\n",
    "\n",
    "random.shuffle(train_full)\n",
    "\n",
    "\n",
    "# list of tensors\n",
    "train_tensor = img_tensor\n",
    "print(type(train_tensor))\n",
    "\n",
    "train_data = []\n",
    "train_labels = []\n",
    "\n",
    "for i, train_img in enumerate(train_full[1:11]):\n",
    "    img = Image.open(train_img)\n",
    "\n",
    "    # resize image\n",
    "    newsize = (127, 127)\n",
    "    img = img.resize(newsize)\n",
    "\n",
    "    # img.show()\n",
    "    transform = transforms.Compose([\n",
    "        transforms.PILToTensor()\n",
    "    ])\n",
    "    \n",
    "    if \"PNEUMONIA\" in train_img:\n",
    "        train_labels.append(1)\n",
    "    else:\n",
    "        train_labels.append(0)\n",
    "    img_tensor = transform(img)\n",
    "    img_tensor = img_tensor.unsqueeze(0)\n",
    "    # train_data.append(img_tensor)\n",
    "    train_tensor = torch.stack((train_tensor, img_tensor))\n",
    "    print(i)\n",
    "\n",
    "print(train_tensor)\n",
    "print(train_tensor.size())\n",
    "\n"
   ]
  },
  {
   "cell_type": "code",
   "execution_count": 56,
   "metadata": {},
   "outputs": [
    {
     "ename": "ValueError",
     "evalue": "only one element tensors can be converted to Python scalars",
     "output_type": "error",
     "traceback": [
      "\u001b[0;31m---------------------------------------------------------------------------\u001b[0m",
      "\u001b[0;31mValueError\u001b[0m                                Traceback (most recent call last)",
      "\u001b[0;32m/tmp/ipykernel_408/2056970522.py\u001b[0m in \u001b[0;36m<module>\u001b[0;34m\u001b[0m\n\u001b[1;32m      2\u001b[0m \u001b[0;32mimport\u001b[0m \u001b[0mtorch\u001b[0m\u001b[0;34m\u001b[0m\u001b[0;34m\u001b[0m\u001b[0m\n\u001b[1;32m      3\u001b[0m \u001b[0;34m\u001b[0m\u001b[0m\n\u001b[0;32m----> 4\u001b[0;31m \u001b[0mtrain_images\u001b[0m \u001b[0;34m=\u001b[0m \u001b[0mtorch\u001b[0m\u001b[0;34m.\u001b[0m\u001b[0mtensor\u001b[0m\u001b[0;34m(\u001b[0m\u001b[0mtrain_data\u001b[0m\u001b[0;34m)\u001b[0m\u001b[0;34m\u001b[0m\u001b[0;34m\u001b[0m\u001b[0m\n\u001b[0m\u001b[1;32m      5\u001b[0m \u001b[0mtrain_label\u001b[0m \u001b[0;34m=\u001b[0m \u001b[0mtorch\u001b[0m\u001b[0;34m.\u001b[0m\u001b[0mtensor\u001b[0m\u001b[0;34m(\u001b[0m\u001b[0mtrain_labels\u001b[0m\u001b[0;34m)\u001b[0m\u001b[0;34m\u001b[0m\u001b[0;34m\u001b[0m\u001b[0m\n\u001b[1;32m      6\u001b[0m \u001b[0;34m\u001b[0m\u001b[0m\n",
      "\u001b[0;31mValueError\u001b[0m: only one element tensors can be converted to Python scalars"
     ]
    }
   ],
   "source": [
    "from torch.utils.data import TensorDataset, DataLoader\n",
    "import torch\n",
    "\n",
    "train_images = torch.tensor(train_data)\n",
    "train_label = torch.tensor(train_labels)\n",
    "\n",
    "print(type(train_images))"
   ]
  }
 ],
 "metadata": {
  "kernelspec": {
   "display_name": "Python 3.7.3 64-bit",
   "language": "python",
   "name": "python3"
  },
  "language_info": {
   "codemirror_mode": {
    "name": "ipython",
    "version": 3
   },
   "file_extension": ".py",
   "mimetype": "text/x-python",
   "name": "python",
   "nbconvert_exporter": "python",
   "pygments_lexer": "ipython3",
   "version": "3.7.3"
  },
  "orig_nbformat": 4,
  "vscode": {
   "interpreter": {
    "hash": "31f2aee4e71d21fbe5cf8b01ff0e069b9275f58929596ceb00d14d90e3e16cd6"
   }
  }
 },
 "nbformat": 4,
 "nbformat_minor": 2
}
